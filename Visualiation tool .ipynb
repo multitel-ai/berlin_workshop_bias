{
 "cells": [
  {
   "cell_type": "markdown",
   "id": "9da7dfa3",
   "metadata": {},
   "source": [
    "# Visualisation for MLP on CMNIST\n",
    "- vanilla\n",
    "- DebiAN\n",
    "- DFA"
   ]
  },
  {
   "cell_type": "code",
   "execution_count": 28,
   "id": "3a03ce30",
   "metadata": {},
   "outputs": [],
   "source": [
    "import os\n",
    "import captum\n",
    "import random\n",
    "import torch\n",
    "import torchvision\n",
    "from torchvision import transforms\n",
    "import numpy as np\n",
    "from captum.attr import IntegratedGradients\n",
    "from captum.attr import Saliency\n",
    "from captum.attr import DeepLift\n",
    "from captum.attr import NoiseTunnel\n",
    "\n",
    "\n",
    "from DebiAN.models.simple_cls import MLP\n",
    "\n",
    "from matplotlib import pyplot as plt\n",
    "from matplotlib import cm\n",
    "from PIL import Image\n",
    "from torchvision import models\n",
    "from tqdm import tqdm\n",
    "from os import path\n",
    "import torch.nn.functional as F\n",
    "import pandas as pd\n",
    "#from berlin_workshop_bias.data.utils import get_dataset, IdxDataset\n",
    "from module.util import get_model\n",
    "from data.utils import get_dataset"
   ]
  },
  {
   "cell_type": "markdown",
   "id": "03c825b7",
   "metadata": {},
   "source": [
    "# Functions"
   ]
  },
  {
   "cell_type": "code",
   "execution_count": 29,
   "id": "70496c4d",
   "metadata": {},
   "outputs": [],
   "source": [
    "from matplotlib import cm\n",
    "import numpy as np\n",
    "\n",
    "def overlay(input, cam, alpha=0.9, colormap=\"jet\"):\n",
    "    # inspired by https://github.com/frgfm/torch-cam/blob/master/torchcam/utils.py\n",
    "\n",
    "    img = transforms.ToPILImage()(input)\n",
    "    # normalize to 0,1\n",
    "    cam -= torch.min(cam)\n",
    "    cam /= torch.max(cam)\n",
    "    cam_img = transforms.ToPILImage(mode='F')(cam)\n",
    "\n",
    "    if type(colormap) is str:\n",
    "        cmap = cm.get_cmap(colormap)\n",
    "    else:\n",
    "        cmap = colormap\n",
    "\n",
    "    # Resize mask and apply colormap\n",
    "    overlay_raw = cam_img.resize(img.size, resample=Image.BILINEAR)\n",
    "    overlay_raw = cam_img.resize(img.size, resample=Image.NEAREST)\n",
    "    overlay = overlay_raw\n",
    "    overlay = (255 * cmap(np.asarray(overlay) ** 2)[:, :, :3]).astype(np.uint8)\n",
    "    # Overlay the image with the mask\n",
    "    overlayed_img = Image.fromarray((alpha * np.asarray(img) + (1 - alpha) * overlay).astype(np.uint8))\n",
    "    return overlayed_img\n",
    "\n",
    "\n",
    "def attribute_image_features(net,algorithm, input,label, **kwargs):\n",
    "    net.zero_grad()\n",
    "    tensor_attributions = algorithm.attribute(input,\n",
    "                                              target=label,\n",
    "                                              **kwargs\n",
    "                                             )\n",
    "    return tensor_attributions\n",
    "\n",
    "\n",
    "\n"
   ]
  },
  {
   "cell_type": "markdown",
   "id": "5073d353",
   "metadata": {},
   "source": [
    "# Parameters"
   ]
  },
  {
   "cell_type": "code",
   "execution_count": 88,
   "id": "36a84f55",
   "metadata": {},
   "outputs": [],
   "source": [
    "data_path='data'\n",
    "split='test'\n",
    "percent='1pct'\n",
    "\n",
    "models_type=['vanilla','LlF','DebiAN','DFA']\n",
    "\n",
    "Saliency_methods=['integrated_gradient','smoothgrad','deeplift']"
   ]
  },
  {
   "cell_type": "markdown",
   "id": "1ab029f6",
   "metadata": {},
   "source": [
    "# LOAD DB CMNIS"
   ]
  },
  {
   "cell_type": "code",
   "execution_count": 89,
   "id": "44c9f6ce",
   "metadata": {},
   "outputs": [
    {
     "name": "stdout",
     "output_type": "stream",
     "text": [
      "10000 samples in test CMNST\n"
     ]
    }
   ],
   "source": [
    "dataset=get_dataset('cmnist',\n",
    "        data_dir=data_path,\n",
    "        dataset_split=split,\n",
    "        transform_split=\"valid\",\n",
    "        percent=percent)\n",
    "\n",
    "if dataset.__len__()==0:\n",
    "    print('Error - data not loaded')\n",
    "else: \n",
    "    print ('{} samples in {} CMNST'.format(dataset.__len__(),split))\n"
   ]
  },
  {
   "cell_type": "markdown",
   "id": "6c40dc19",
   "metadata": {},
   "source": [
    "# LOAD MODELS"
   ]
  },
  {
   "cell_type": "code",
   "execution_count": 90,
   "id": "528053a4",
   "metadata": {},
   "outputs": [
    {
     "name": "stdout",
     "output_type": "stream",
     "text": [
      "vanilla\n",
      "MLP(\n",
      "  (feature): Sequential(\n",
      "    (0): Linear(in_features=2352, out_features=100, bias=True)\n",
      "    (1): ReLU()\n",
      "    (2): Linear(in_features=100, out_features=100, bias=True)\n",
      "    (3): ReLU()\n",
      "    (4): Linear(in_features=100, out_features=32, bias=True)\n",
      "    (5): ReLU()\n",
      "  )\n",
      "  (classifier): Linear(in_features=32, out_features=10, bias=True)\n",
      ")\n",
      "LlF\n",
      "MLP(\n",
      "  (feature): Sequential(\n",
      "    (0): Linear(in_features=2352, out_features=100, bias=True)\n",
      "    (1): ReLU()\n",
      "    (2): Linear(in_features=100, out_features=100, bias=True)\n",
      "    (3): ReLU()\n",
      "    (4): Linear(in_features=100, out_features=32, bias=True)\n",
      "    (5): ReLU()\n",
      "  )\n",
      "  (classifier): Linear(in_features=32, out_features=10, bias=True)\n",
      ")\n",
      "DebiAN\n",
      "MLP(\n",
      "  (feature): Sequential(\n",
      "    (0): Linear(in_features=2352, out_features=100, bias=True)\n",
      "    (1): ReLU()\n",
      "    (2): Linear(in_features=100, out_features=100, bias=True)\n",
      "    (3): ReLU()\n",
      "    (4): Linear(in_features=100, out_features=32, bias=True)\n",
      "    (5): ReLU()\n",
      "  )\n",
      "  (classifier): Linear(in_features=32, out_features=10, bias=True)\n",
      ")\n",
      "DFA\n",
      "MLP_DISENTANGLE(\n",
      "  (feature): Sequential(\n",
      "    (0): Linear(in_features=2352, out_features=100, bias=True)\n",
      "    (1): ReLU()\n",
      "    (2): Linear(in_features=100, out_features=100, bias=True)\n",
      "    (3): ReLU()\n",
      "    (4): Linear(in_features=100, out_features=32, bias=True)\n",
      "    (5): ReLU()\n",
      "  )\n",
      "  (fc): Linear(in_features=64, out_features=10, bias=True)\n",
      ")\n"
     ]
    }
   ],
   "source": [
    "models=dict()\n",
    "col_names=[]\n",
    "col_names.append('id')\n",
    "col_names.append('idx')\n",
    "col_names.append('gt')\n",
    "col_names.append('bias')\n",
    "col_names.append('bias_label')\n",
    "\n",
    "for m in models_type:\n",
    "    print(m)\n",
    "    \n",
    "     \n",
    "    if m=='DFA':\n",
    "        \n",
    "        model = get_model('mlp_DISENTANGLE', 10)   \n",
    "        \n",
    "        model_path =\"ckpt/models_cmnist_LDD/no_dec/{}/best_model_l.th\".format(percent)      \n",
    "        state_dict = torch.load(model_path)\n",
    "        model.load_state_dict(state_dict['state_dict'])\n",
    "        model = model.eval()\n",
    "        models[m+'_l']=model\n",
    "        \n",
    "        model = get_model('mlp_DISENTANGLE', 10) \n",
    "        \n",
    "        model_path =\"ckpt/models_cmnist_LDD/no_dec/{}/best_model_b.th\".format(percent)      \n",
    "        state_dict = torch.load(model_path)\n",
    "        model.load_state_dict(state_dict['state_dict'])\n",
    "        model = model.eval()\n",
    "        models[m+'_b']=model\n",
    "        \n",
    "        print(model)\n",
    "        \n",
    "        \n",
    "    else:\n",
    "         \n",
    "        if m=='vanilla':\n",
    "            model_path =\"ckpt/cmnist/cmnist_{}_{}.th\".format(percent,m)  \n",
    "            model=MLP(last_hidden_layer=32)\n",
    "            state_dict = torch.load(model_path)\n",
    "            model.load_state_dict(state_dict['state_dict'])\n",
    "        if m=='LlF':\n",
    "            model_path =\"ckpt/cmnist/cmnist_{}_{}.th\".format(percent,m)  \n",
    "            model=MLP(last_hidden_layer=32)\n",
    "            state_dict = torch.load(model_path)\n",
    "            model.load_state_dict(state_dict['state_dict'])\n",
    "        if m=='DebiAN':\n",
    "            model_path =\"ckpt/cmnist/cmnist_{}_{}_d.th\".format(percent,m)  \n",
    "            model=MLP(last_hidden_layer=32)\n",
    "            state_dict = torch.load(model_path)\n",
    "            model.load_state_dict(state_dict['model'])  \n",
    "        if m=='DebiAN100':\n",
    "            model_path =\"ckpt/cmnist/cmnist_{}_mlp100_DebiAN.th\".format(percent,m)  \n",
    "            model=MLP(last_hidden_layer=100)\n",
    "            state_dict = torch.load(model_path)\n",
    "            model.load_state_dict(state_dict['model'])   \n",
    "        model = model.eval()\n",
    "        print(model)\n",
    "        models[m]=model\n",
    "  \n",
    "    col_names.append('pred_{}'.format(m))\n",
    "    col_names.append('correct_{}'.format(m))\n",
    "    col_names.append('prob_{}'.format(m))\n",
    "    "
   ]
  },
  {
   "cell_type": "markdown",
   "id": "e40e6ff1",
   "metadata": {},
   "source": [
    "# Prediction"
   ]
  },
  {
   "cell_type": "code",
   "execution_count": 91,
   "id": "75dd2254",
   "metadata": {},
   "outputs": [
    {
     "name": "stderr",
     "output_type": "stream",
     "text": [
      "100%|██████████| 10000/10000 [00:48<00:00, 206.77it/s]\n"
     ]
    }
   ],
   "source": [
    "df=pd.DataFrame(columns=col_names) \n",
    "for idx_img in tqdm(range(len(dataset))):\n",
    "    new_row = dict.fromkeys(col_names, 0)   \n",
    "    image,label,idx = dataset[idx_img]\n",
    "    l_target,l_bias=label\n",
    "    l_target=l_target.item()\n",
    "    l_bias=l_bias.item()\n",
    "    x=torch.unsqueeze(image, 0)\n",
    "    new_row['id']=idx_img\n",
    "    new_row['idx']=idx\n",
    "    new_row['gt']=l_target\n",
    "    new_row['bias_label']=l_bias\n",
    "    bias=0\n",
    "    if l_bias==l_target:\n",
    "        bias=1      \n",
    "    new_row['bias']=bias \n",
    "    for m in models_type:\n",
    "        if m=='DFA':\n",
    "            l1=models[m+'_l'].extract(x)  \n",
    "            l2=models[m+'_b'].extract(x)  \n",
    "            logits=models[m+'_l'].fc(torch.hstack((l1,l2)))\n",
    "            \n",
    "            #indices = np.random.permutation(l2.size(0))\n",
    "            #l2_swap = l2[indices]  # z tilde\n",
    "            #z = torch.cat((l1, l2_swap), dim=1)\n",
    "            #logits=models[m+'_l'].fc(z)\n",
    "            \n",
    "            \n",
    "        else:\n",
    "            logits=models[m](x)\n",
    "        assert logits.shape[1]==10\n",
    "        pred = logits.data.max(1, keepdim=True)[1].squeeze(1)  \n",
    "        new_row['pred_{}'.format(m)]=pred.item()\n",
    "        new_row['prob_{}'.format(m)]= torch.max(F.softmax(logits, 1)).item()\n",
    "        correct=0\n",
    "        if pred==l_target:\n",
    "            correct=1\n",
    "        new_row['correct_{}'.format(m)]=correct\n",
    "        new_df = pd.DataFrame([new_row], columns=col_names)\n",
    "    df = pd.concat([new_df, df], ignore_index = True)\n",
    "       "
   ]
  },
  {
   "cell_type": "markdown",
   "id": "d619be0b",
   "metadata": {},
   "source": [
    "# Accuracy"
   ]
  },
  {
   "cell_type": "code",
   "execution_count": 92,
   "id": "85bf0901",
   "metadata": {},
   "outputs": [
    {
     "data": {
      "text/plain": [
       "<AxesSubplot:>"
      ]
     },
     "execution_count": 92,
     "metadata": {},
     "output_type": "execute_result"
    },
    {
     "data": {
      "image/png": "[encoded data removed]",
      "text/plain": [
       "<Figure size 432x288 with 1 Axes>"
      ]
     },
     "metadata": {
      "needs_background": "light"
     },
     "output_type": "display_data"
    }
   ],
   "source": [
    "df['bias_label'].hist()"
   ]
  },
  {
   "cell_type": "code",
   "execution_count": 93,
   "id": "437ca50a",
   "metadata": {},
   "outputs": [
    {
     "name": "stdout",
     "output_type": "stream",
     "text": [
      "RATIO: 0.8994\n",
      "0.4619\n",
      "0.7188\n",
      "0.447\n",
      "0.8071\n",
      "0.9950298210735586\n",
      "0.6520874751491054\n",
      "0.9950298210735586\n",
      "0.9254473161033797\n",
      "0.40226817878585724\n",
      "0.7262619524127196\n",
      "0.38570157883033135\n",
      "0.7938625750500333\n"
     ]
    }
   ],
   "source": [
    "conflict_df=df[df.bias==0]\n",
    "align_df=df[df.bias==1]\n",
    "ratio=len(conflict_df)/len(df)\n",
    "print('RATIO: {}'.format(ratio))\n",
    "\n",
    "# Accuracy\n",
    "acc_vanilla=df['correct_vanilla'].sum()/len(df)\n",
    "acc_LlF=df['correct_LlF'].sum()/len(df)\n",
    "acc_DebiAN=df['correct_DebiAN'].sum()/len(df)\n",
    "acc_DFA=df['correct_DFA'].sum()/len(df)\n",
    "print(acc_vanilla)\n",
    "print(acc_LlF)\n",
    "print(acc_DebiAN)\n",
    "print(acc_DFA)\n",
    "\n",
    "\n",
    "\n",
    "# Accuracy align-bias data\n",
    "align_acc_vanilla=align_df['correct_vanilla'].sum()/len(align_df)\n",
    "align_acc_LlF=align_df['correct_LlF'].sum()/len(align_df)\n",
    "align_acc_DebiAN=align_df['correct_DebiAN'].sum()/len(align_df)\n",
    "align_acc_DFA=align_df['correct_DFA'].sum()/len(align_df)\n",
    "print(align_acc_vanilla)\n",
    "print(align_acc_LlF)\n",
    "print(align_acc_DebiAN)\n",
    "print(align_acc_DFA)\n",
    "\n",
    "# Accuracy conflict-bias data\n",
    "conflict_acc_vanilla=conflict_df['correct_vanilla'].sum()/len(conflict_df)\n",
    "conflict_acc_LlF=conflict_df['correct_LlF'].sum()/len(conflict_df)\n",
    "conflict_acc_DebiAN=conflict_df['correct_DebiAN'].sum()/len(conflict_df)\n",
    "conflict_acc_DFA=conflict_df['correct_DFA'].sum()/len(conflict_df)\n",
    "print(conflict_acc_vanilla)\n",
    "print(conflict_acc_LlF)\n",
    "print(conflict_acc_DebiAN)\n",
    "print(conflict_acc_DFA)"
   ]
  },
  {
   "cell_type": "markdown",
   "id": "43510a49",
   "metadata": {},
   "source": [
    "# Visualize prediction Biased"
   ]
  },
  {
   "cell_type": "code",
   "execution_count": 81,
   "id": "42f59b67",
   "metadata": {},
   "outputs": [],
   "source": [
    "import matplotlib.pyplot as plt\n",
    "import numpy as np\n",
    "\n",
    "%matplotlib inline\n",
    "\n",
    "import torch\n",
    "import torchvision\n",
    "import torchvision.transforms as transforms\n",
    "import torchvision.transforms.functional as TF\n",
    "import torch.nn.functional as F\n",
    "\n",
    "from torchvision import models\n",
    "\n",
    "from captum.attr import IntegratedGradients\n",
    "from captum.attr import Saliency\n",
    "from captum.attr import DeepLift\n",
    "from captum.attr import NoiseTunnel\n",
    "from captum.attr import visualization as viz"
   ]
  },
  {
   "cell_type": "code",
   "execution_count": 12,
   "id": "0d444a2f",
   "metadata": {},
   "outputs": [],
   "source": [
    "df_b=df[(df.correct_vanilla==0)&(df.correct_DFA==1)]"
   ]
  },
  {
   "cell_type": "code",
   "execution_count": 13,
   "id": "6450e4c1",
   "metadata": {},
   "outputs": [
    {
     "name": "stdout",
     "output_type": "stream",
     "text": [
      "42\n",
      "        id                                  idx gt bias bias_label  \\\n",
      "152   4847  data/cmnist/5pct/valid/4740_4_3.png  4    0          3   \n",
      "327   4672  data/cmnist/5pct/valid/2598_4_4.png  4    1          4   \n",
      "389   4610  data/cmnist/5pct/valid/3435_5_5.png  5    1          5   \n",
      "447   4552   data/cmnist/5pct/valid/359_4_4.png  4    1          4   \n",
      "449   4550  data/cmnist/5pct/valid/4748_8_8.png  8    1          8   \n",
      "524   4475  data/cmnist/5pct/valid/2408_3_3.png  3    1          3   \n",
      "565   4434  data/cmnist/5pct/valid/3995_8_8.png  8    1          8   \n",
      "729   4270  data/cmnist/5pct/valid/1516_4_4.png  4    1          4   \n",
      "747   4252  data/cmnist/5pct/valid/3186_5_5.png  5    1          5   \n",
      "772   4227  data/cmnist/5pct/valid/1637_7_7.png  7    1          7   \n",
      "791   4208  data/cmnist/5pct/valid/4393_8_8.png  8    1          8   \n",
      "1059  3940  data/cmnist/5pct/valid/3018_7_7.png  7    1          7   \n",
      "1078  3921  data/cmnist/5pct/valid/2925_3_3.png  3    1          3   \n",
      "1184  3815  data/cmnist/5pct/valid/3249_4_4.png  4    1          4   \n",
      "1289  3710    data/cmnist/5pct/valid/60_8_1.png  8    0          1   \n",
      "1306  3693  data/cmnist/5pct/valid/3930_9_9.png  9    1          9   \n",
      "1391  3608  data/cmnist/5pct/valid/3925_2_2.png  2    1          2   \n",
      "1661  3338  data/cmnist/5pct/valid/1988_5_5.png  5    1          5   \n",
      "1720  3279  data/cmnist/5pct/valid/3477_2_2.png  2    1          2   \n",
      "1836  3163   data/cmnist/5pct/valid/140_0_5.png  0    0          5   \n",
      "1843  3156  data/cmnist/5pct/valid/4099_2_2.png  2    1          2   \n",
      "1864  3135  data/cmnist/5pct/valid/4019_3_3.png  3    1          3   \n",
      "1870  3129  data/cmnist/5pct/valid/1933_6_6.png  6    1          6   \n",
      "1912  3087  data/cmnist/5pct/valid/4808_2_2.png  2    1          2   \n",
      "2095  2904   data/cmnist/5pct/valid/685_7_7.png  7    1          7   \n",
      "2108  2891  data/cmnist/5pct/valid/1944_0_0.png  0    1          0   \n",
      "2277  2722   data/cmnist/5pct/valid/943_5_5.png  5    1          5   \n",
      "2453  2546  data/cmnist/5pct/valid/2660_8_9.png  8    0          9   \n",
      "2617  2382   data/cmnist/5pct/valid/980_7_9.png  7    0          9   \n",
      "2788  2211   data/cmnist/5pct/valid/781_8_8.png  8    1          8   \n",
      "2795  2204  data/cmnist/5pct/valid/4289_8_8.png  8    1          8   \n",
      "3040  1959  data/cmnist/5pct/valid/2265_8_8.png  8    1          8   \n",
      "3253  1746  data/cmnist/5pct/valid/3322_2_2.png  2    1          2   \n",
      "3453  1546  data/cmnist/5pct/valid/1678_5_5.png  5    1          5   \n",
      "3465  1534  data/cmnist/5pct/valid/1600_8_9.png  8    0          9   \n",
      "3572  1427  data/cmnist/5pct/valid/2180_7_9.png  7    0          9   \n",
      "3618  1381  data/cmnist/5pct/valid/3646_9_9.png  9    1          9   \n",
      "3873  1126  data/cmnist/5pct/valid/2609_5_5.png  5    1          5   \n",
      "4539   460  data/cmnist/5pct/valid/3589_3_3.png  3    1          3   \n",
      "4719   280  data/cmnist/5pct/valid/3160_9_8.png  9    0          8   \n",
      "4806   193  data/cmnist/5pct/valid/1440_7_4.png  7    0          4   \n",
      "4814   185  data/cmnist/5pct/valid/2065_0_0.png  0    1          0   \n",
      "\n",
      "     pred_vanilla correct_vanilla  prob_vanilla pred_DebiAN correct_DebiAN  \\\n",
      "152             9               0      0.899832           4              1   \n",
      "327             7               0      0.960703           9              0   \n",
      "389             0               0      0.995778           5              1   \n",
      "447             5               0      0.891448           0              0   \n",
      "449             6               0      0.849083           8              1   \n",
      "524             5               0      0.935851           3              1   \n",
      "565             1               0      0.794288           8              1   \n",
      "729             0               0      0.566403           4              1   \n",
      "747             0               0      1.000000           0              0   \n",
      "772             9               0      0.999717           7              1   \n",
      "791             2               0      0.999950           8              1   \n",
      "1059            9               0      0.999980           9              0   \n",
      "1078            1               0      0.999864           3              1   \n",
      "1184            6               0      0.999999           6              0   \n",
      "1289            1               0      0.996791           3              0   \n",
      "1306            0               0      1.000000           0              0   \n",
      "1391            7               0      0.869639           2              1   \n",
      "1661            6               0      0.997627           5              1   \n",
      "1720            5               0      0.999806           6              0   \n",
      "1836            5               0      0.998775           0              1   \n",
      "1843            1               0      1.000000           2              1   \n",
      "1864            5               0      0.997590           3              1   \n",
      "1870            7               0      0.845078           2              0   \n",
      "1912            1               0      0.905135           2              1   \n",
      "2095            3               0      0.991424           3              0   \n",
      "2108            2               0      1.000000           0              1   \n",
      "2277            8               0      0.999862           5              1   \n",
      "2453            9               0      0.999999           3              0   \n",
      "2617            9               0      0.963383           7              1   \n",
      "2788            0               0      0.860832           8              1   \n",
      "2795            0               0      0.853479           8              1   \n",
      "3040            0               0      1.000000           0              0   \n",
      "3253            1               0      0.999795           1              0   \n",
      "3453            4               0      1.000000           5              1   \n",
      "3465            9               0      0.957419           8              1   \n",
      "3572            9               0      1.000000           7              1   \n",
      "3618            4               0      0.770522           4              0   \n",
      "3873            0               0      0.924541           0              0   \n",
      "4539            2               0      0.999999           3              1   \n",
      "4719            4               0      0.533586           9              1   \n",
      "4806            5               0      0.999338           0              0   \n",
      "4814            8               0      0.570263           0              1   \n",
      "\n",
      "      prob_DebiAN pred_DFA correct_DFA  prob_DFA  \n",
      "152      0.811238        4           1  1.000000  \n",
      "327      0.579891        4           1  1.000000  \n",
      "389      0.918321        5           1  1.000000  \n",
      "447      0.513200        4           1  1.000000  \n",
      "449      0.990408        8           1  1.000000  \n",
      "524      0.990727        3           1  1.000000  \n",
      "565      0.979191        8           1  1.000000  \n",
      "729      0.963168        4           1  1.000000  \n",
      "747      0.975423        5           1  1.000000  \n",
      "772      0.771400        7           1  1.000000  \n",
      "791      0.723594        8           1  1.000000  \n",
      "1059     0.927754        7           1  1.000000  \n",
      "1078     0.687321        3           1  1.000000  \n",
      "1184     0.999533        4           1  1.000000  \n",
      "1289     0.775012        8           1  1.000000  \n",
      "1306     0.955113        9           1  1.000000  \n",
      "1391     0.999383        2           1  1.000000  \n",
      "1661     0.880981        5           1  1.000000  \n",
      "1720     0.988127        2           1  1.000000  \n",
      "1836     0.998906        0           1  0.999999  \n",
      "1843     0.994703        2           1  1.000000  \n",
      "1864     0.676791        3           1  1.000000  \n",
      "1870     0.508100        6           1  1.000000  \n",
      "1912     1.000000        2           1  1.000000  \n",
      "2095     0.996298        7           1  1.000000  \n",
      "2108     0.999871        0           1  1.000000  \n",
      "2277     0.859789        5           1  1.000000  \n",
      "2453     0.791852        8           1  1.000000  \n",
      "2617     0.909878        7           1  1.000000  \n",
      "2788     0.972485        8           1  1.000000  \n",
      "2795     0.999945        8           1  1.000000  \n",
      "3040     0.999168        8           1  1.000000  \n",
      "3253     0.754224        2           1  1.000000  \n",
      "3453     0.828057        5           1  1.000000  \n",
      "3465     0.978203        8           1  1.000000  \n",
      "3572     0.998917        7           1  1.000000  \n",
      "3618     0.857615        9           1  1.000000  \n",
      "3873     0.846038        5           1  1.000000  \n",
      "4539     0.999837        3           1  1.000000  \n",
      "4719     0.996442        9           1  0.999998  \n",
      "4806     0.787843        7           1  1.000000  \n",
      "4814     0.999940        0           1  1.000000  \n"
     ]
    }
   ],
   "source": [
    "print(len(df_b))\n",
    "print(df_b)"
   ]
  },
  {
   "cell_type": "code",
   "execution_count": 16,
   "id": "39acc581",
   "metadata": {},
   "outputs": [],
   "source": [
    "image_idx=4478\n",
    "image,label,idx = dataset[image_idx]\n",
    "x=torch.unsqueeze(image, 0)\n",
    "image=torch.squeeze(image,0)\n",
    "x.requires_grad = True"
   ]
  },
  {
   "cell_type": "code",
   "execution_count": 19,
   "id": "2991d945",
   "metadata": {},
   "outputs": [
    {
     "ename": "TypeError",
     "evalue": "'module' object is not subscriptable",
     "output_type": "error",
     "traceback": [
      "\u001b[0;31m---------------------------------------------------------------------------\u001b[0m",
      "\u001b[0;31mTypeError\u001b[0m                                 Traceback (most recent call last)",
      "\u001b[0;32m/tmp/ipykernel_11/3880942235.py\u001b[0m in \u001b[0;36m<module>\u001b[0;34m\u001b[0m\n\u001b[0;32m----> 1\u001b[0;31m \u001b[0mmo\u001b[0m\u001b[0;34m=\u001b[0m\u001b[0mmodels\u001b[0m\u001b[0;34m[\u001b[0m\u001b[0;34m'vanilla'\u001b[0m\u001b[0;34m]\u001b[0m\u001b[0;34m(\u001b[0m\u001b[0mim\u001b[0m\u001b[0;34m)\u001b[0m\u001b[0;34m\u001b[0m\u001b[0;34m\u001b[0m\u001b[0m\n\u001b[0m",
      "\u001b[0;31mTypeError\u001b[0m: 'module' object is not subscriptable"
     ]
    }
   ],
   "source": []
  },
  {
   "cell_type": "code",
   "execution_count": 17,
   "id": "d2a21495",
   "metadata": {},
   "outputs": [
    {
     "ename": "AttributeError",
     "evalue": "'MLP_DISENTANGLE' object has no attribute 'classifier'",
     "output_type": "error",
     "traceback": [
      "\u001b[0;31m---------------------------------------------------------------------------\u001b[0m",
      "\u001b[0;31mAttributeError\u001b[0m                            Traceback (most recent call last)",
      "\u001b[0;32m/tmp/ipykernel_11/611312955.py\u001b[0m in \u001b[0;36m<module>\u001b[0;34m\u001b[0m\n\u001b[1;32m      1\u001b[0m \u001b[0;31m# Integrated Gradient\u001b[0m\u001b[0;34m\u001b[0m\u001b[0;34m\u001b[0m\u001b[0;34m\u001b[0m\u001b[0m\n\u001b[1;32m      2\u001b[0m \u001b[0mig\u001b[0m \u001b[0;34m=\u001b[0m \u001b[0mIntegratedGradients\u001b[0m\u001b[0;34m(\u001b[0m\u001b[0mmodel\u001b[0m\u001b[0;34m)\u001b[0m\u001b[0;34m\u001b[0m\u001b[0;34m\u001b[0m\u001b[0m\n\u001b[0;32m----> 3\u001b[0;31m \u001b[0mattr_ig\u001b[0m\u001b[0;34m,\u001b[0m \u001b[0mdelta\u001b[0m \u001b[0;34m=\u001b[0m \u001b[0mattribute_image_features\u001b[0m\u001b[0;34m(\u001b[0m\u001b[0mmodel\u001b[0m\u001b[0;34m,\u001b[0m\u001b[0mig\u001b[0m\u001b[0;34m,\u001b[0m \u001b[0mx\u001b[0m\u001b[0;34m,\u001b[0m\u001b[0ml_target\u001b[0m\u001b[0;34m,\u001b[0m \u001b[0mbaselines\u001b[0m\u001b[0;34m=\u001b[0m\u001b[0mx\u001b[0m \u001b[0;34m*\u001b[0m \u001b[0;36m0\u001b[0m\u001b[0;34m,\u001b[0m \u001b[0mreturn_convergence_delta\u001b[0m\u001b[0;34m=\u001b[0m\u001b[0;32mTrue\u001b[0m\u001b[0;34m)\u001b[0m\u001b[0;34m\u001b[0m\u001b[0;34m\u001b[0m\u001b[0m\n\u001b[0m\u001b[1;32m      4\u001b[0m \u001b[0mattr_ig\u001b[0m \u001b[0;34m=\u001b[0m \u001b[0mnp\u001b[0m\u001b[0;34m.\u001b[0m\u001b[0mtranspose\u001b[0m\u001b[0;34m(\u001b[0m\u001b[0mattr_ig\u001b[0m\u001b[0;34m.\u001b[0m\u001b[0msqueeze\u001b[0m\u001b[0;34m(\u001b[0m\u001b[0;34m)\u001b[0m\u001b[0;34m.\u001b[0m\u001b[0mcpu\u001b[0m\u001b[0;34m(\u001b[0m\u001b[0;34m)\u001b[0m\u001b[0;34m.\u001b[0m\u001b[0mdetach\u001b[0m\u001b[0;34m(\u001b[0m\u001b[0;34m)\u001b[0m\u001b[0;34m.\u001b[0m\u001b[0mnumpy\u001b[0m\u001b[0;34m(\u001b[0m\u001b[0;34m)\u001b[0m\u001b[0;34m,\u001b[0m \u001b[0;34m(\u001b[0m\u001b[0;36m1\u001b[0m\u001b[0;34m,\u001b[0m \u001b[0;36m2\u001b[0m\u001b[0;34m,\u001b[0m \u001b[0;36m0\u001b[0m\u001b[0;34m)\u001b[0m\u001b[0;34m)\u001b[0m\u001b[0;34m\u001b[0m\u001b[0;34m\u001b[0m\u001b[0m\n\u001b[1;32m      5\u001b[0m \u001b[0mprint\u001b[0m\u001b[0;34m(\u001b[0m\u001b[0;34m'Approximation delta: '\u001b[0m\u001b[0;34m,\u001b[0m \u001b[0mabs\u001b[0m\u001b[0;34m(\u001b[0m\u001b[0mdelta\u001b[0m\u001b[0;34m)\u001b[0m\u001b[0;34m)\u001b[0m\u001b[0;34m\u001b[0m\u001b[0;34m\u001b[0m\u001b[0m\n",
      "\u001b[0;32m/tmp/ipykernel_11/375761794.py\u001b[0m in \u001b[0;36mattribute_image_features\u001b[0;34m(net, algorithm, input, label, **kwargs)\u001b[0m\n\u001b[1;32m     28\u001b[0m \u001b[0;32mdef\u001b[0m \u001b[0mattribute_image_features\u001b[0m\u001b[0;34m(\u001b[0m\u001b[0mnet\u001b[0m\u001b[0;34m,\u001b[0m\u001b[0malgorithm\u001b[0m\u001b[0;34m,\u001b[0m \u001b[0minput\u001b[0m\u001b[0;34m,\u001b[0m\u001b[0mlabel\u001b[0m\u001b[0;34m,\u001b[0m \u001b[0;34m**\u001b[0m\u001b[0mkwargs\u001b[0m\u001b[0;34m)\u001b[0m\u001b[0;34m:\u001b[0m\u001b[0;34m\u001b[0m\u001b[0;34m\u001b[0m\u001b[0m\n\u001b[1;32m     29\u001b[0m     \u001b[0mnet\u001b[0m\u001b[0;34m.\u001b[0m\u001b[0mzero_grad\u001b[0m\u001b[0;34m(\u001b[0m\u001b[0;34m)\u001b[0m\u001b[0;34m\u001b[0m\u001b[0;34m\u001b[0m\u001b[0m\n\u001b[0;32m---> 30\u001b[0;31m     tensor_attributions = algorithm.attribute(input,\n\u001b[0m\u001b[1;32m     31\u001b[0m                                               \u001b[0mtarget\u001b[0m\u001b[0;34m=\u001b[0m\u001b[0mlabel\u001b[0m\u001b[0;34m,\u001b[0m\u001b[0;34m\u001b[0m\u001b[0;34m\u001b[0m\u001b[0m\n\u001b[1;32m     32\u001b[0m                                               \u001b[0;34m**\u001b[0m\u001b[0mkwargs\u001b[0m\u001b[0;34m\u001b[0m\u001b[0;34m\u001b[0m\u001b[0m\n",
      "\u001b[0;32m/opt/conda/lib/python3.8/site-packages/captum/log/__init__.py\u001b[0m in \u001b[0;36mwrapper\u001b[0;34m(*args, **kwargs)\u001b[0m\n\u001b[1;32m     33\u001b[0m             \u001b[0;34m@\u001b[0m\u001b[0mwraps\u001b[0m\u001b[0;34m(\u001b[0m\u001b[0mfunc\u001b[0m\u001b[0;34m)\u001b[0m\u001b[0;34m\u001b[0m\u001b[0;34m\u001b[0m\u001b[0m\n\u001b[1;32m     34\u001b[0m             \u001b[0;32mdef\u001b[0m \u001b[0mwrapper\u001b[0m\u001b[0;34m(\u001b[0m\u001b[0;34m*\u001b[0m\u001b[0margs\u001b[0m\u001b[0;34m,\u001b[0m \u001b[0;34m**\u001b[0m\u001b[0mkwargs\u001b[0m\u001b[0;34m)\u001b[0m\u001b[0;34m:\u001b[0m\u001b[0;34m\u001b[0m\u001b[0;34m\u001b[0m\u001b[0m\n\u001b[0;32m---> 35\u001b[0;31m                 \u001b[0;32mreturn\u001b[0m \u001b[0mfunc\u001b[0m\u001b[0;34m(\u001b[0m\u001b[0;34m*\u001b[0m\u001b[0margs\u001b[0m\u001b[0;34m,\u001b[0m \u001b[0;34m**\u001b[0m\u001b[0mkwargs\u001b[0m\u001b[0;34m)\u001b[0m\u001b[0;34m\u001b[0m\u001b[0;34m\u001b[0m\u001b[0m\n\u001b[0m\u001b[1;32m     36\u001b[0m \u001b[0;34m\u001b[0m\u001b[0m\n\u001b[1;32m     37\u001b[0m             \u001b[0;32mreturn\u001b[0m \u001b[0mwrapper\u001b[0m\u001b[0;34m\u001b[0m\u001b[0;34m\u001b[0m\u001b[0m\n",
      "\u001b[0;32m/opt/conda/lib/python3.8/site-packages/captum/attr/_core/integrated_gradients.py\u001b[0m in \u001b[0;36mattribute\u001b[0;34m(self, inputs, baselines, target, additional_forward_args, n_steps, method, internal_batch_size, return_convergence_delta)\u001b[0m\n\u001b[1;32m    283\u001b[0m             )\n\u001b[1;32m    284\u001b[0m         \u001b[0;32melse\u001b[0m\u001b[0;34m:\u001b[0m\u001b[0;34m\u001b[0m\u001b[0;34m\u001b[0m\u001b[0m\n\u001b[0;32m--> 285\u001b[0;31m             attributions = self._attribute(\n\u001b[0m\u001b[1;32m    286\u001b[0m                 \u001b[0minputs\u001b[0m\u001b[0;34m=\u001b[0m\u001b[0minputs\u001b[0m\u001b[0;34m,\u001b[0m\u001b[0;34m\u001b[0m\u001b[0;34m\u001b[0m\u001b[0m\n\u001b[1;32m    287\u001b[0m                 \u001b[0mbaselines\u001b[0m\u001b[0;34m=\u001b[0m\u001b[0mbaselines\u001b[0m\u001b[0;34m,\u001b[0m\u001b[0;34m\u001b[0m\u001b[0;34m\u001b[0m\u001b[0m\n",
      "\u001b[0;32m/opt/conda/lib/python3.8/site-packages/captum/attr/_core/integrated_gradients.py\u001b[0m in \u001b[0;36m_attribute\u001b[0;34m(self, inputs, baselines, target, additional_forward_args, n_steps, method, step_sizes_and_alphas)\u001b[0m\n\u001b[1;32m    348\u001b[0m \u001b[0;34m\u001b[0m\u001b[0m\n\u001b[1;32m    349\u001b[0m         \u001b[0;31m# grads: dim -> (bsz * #steps x inputs[0].shape[1:], ...)\u001b[0m\u001b[0;34m\u001b[0m\u001b[0;34m\u001b[0m\u001b[0;34m\u001b[0m\u001b[0m\n\u001b[0;32m--> 350\u001b[0;31m         grads = self.gradient_func(\n\u001b[0m\u001b[1;32m    351\u001b[0m             \u001b[0mforward_fn\u001b[0m\u001b[0;34m=\u001b[0m\u001b[0mself\u001b[0m\u001b[0;34m.\u001b[0m\u001b[0mforward_func\u001b[0m\u001b[0;34m,\u001b[0m\u001b[0;34m\u001b[0m\u001b[0;34m\u001b[0m\u001b[0m\n\u001b[1;32m    352\u001b[0m             \u001b[0minputs\u001b[0m\u001b[0;34m=\u001b[0m\u001b[0mscaled_features_tpl\u001b[0m\u001b[0;34m,\u001b[0m\u001b[0;34m\u001b[0m\u001b[0;34m\u001b[0m\u001b[0m\n",
      "\u001b[0;32m/opt/conda/lib/python3.8/site-packages/captum/_utils/gradient.py\u001b[0m in \u001b[0;36mcompute_gradients\u001b[0;34m(forward_fn, inputs, target_ind, additional_forward_args)\u001b[0m\n\u001b[1;32m    110\u001b[0m     \u001b[0;32mwith\u001b[0m \u001b[0mtorch\u001b[0m\u001b[0;34m.\u001b[0m\u001b[0mautograd\u001b[0m\u001b[0;34m.\u001b[0m\u001b[0mset_grad_enabled\u001b[0m\u001b[0;34m(\u001b[0m\u001b[0;32mTrue\u001b[0m\u001b[0;34m)\u001b[0m\u001b[0;34m:\u001b[0m\u001b[0;34m\u001b[0m\u001b[0;34m\u001b[0m\u001b[0m\n\u001b[1;32m    111\u001b[0m         \u001b[0;31m# runs forward pass\u001b[0m\u001b[0;34m\u001b[0m\u001b[0;34m\u001b[0m\u001b[0;34m\u001b[0m\u001b[0m\n\u001b[0;32m--> 112\u001b[0;31m         \u001b[0moutputs\u001b[0m \u001b[0;34m=\u001b[0m \u001b[0m_run_forward\u001b[0m\u001b[0;34m(\u001b[0m\u001b[0mforward_fn\u001b[0m\u001b[0;34m,\u001b[0m \u001b[0minputs\u001b[0m\u001b[0;34m,\u001b[0m \u001b[0mtarget_ind\u001b[0m\u001b[0;34m,\u001b[0m \u001b[0madditional_forward_args\u001b[0m\u001b[0;34m)\u001b[0m\u001b[0;34m\u001b[0m\u001b[0;34m\u001b[0m\u001b[0m\n\u001b[0m\u001b[1;32m    113\u001b[0m         assert outputs[0].numel() == 1, (\n\u001b[1;32m    114\u001b[0m             \u001b[0;34m\"Target not provided when necessary, cannot\"\u001b[0m\u001b[0;34m\u001b[0m\u001b[0;34m\u001b[0m\u001b[0m\n",
      "\u001b[0;32m/opt/conda/lib/python3.8/site-packages/captum/_utils/common.py\u001b[0m in \u001b[0;36m_run_forward\u001b[0;34m(forward_func, inputs, target, additional_forward_args)\u001b[0m\n\u001b[1;32m    454\u001b[0m     \u001b[0madditional_forward_args\u001b[0m \u001b[0;34m=\u001b[0m \u001b[0m_format_additional_forward_args\u001b[0m\u001b[0;34m(\u001b[0m\u001b[0madditional_forward_args\u001b[0m\u001b[0;34m)\u001b[0m\u001b[0;34m\u001b[0m\u001b[0;34m\u001b[0m\u001b[0m\n\u001b[1;32m    455\u001b[0m \u001b[0;34m\u001b[0m\u001b[0m\n\u001b[0;32m--> 456\u001b[0;31m     output = forward_func(\n\u001b[0m\u001b[1;32m    457\u001b[0m         \u001b[0;34m*\u001b[0m\u001b[0;34m(\u001b[0m\u001b[0;34m*\u001b[0m\u001b[0minputs\u001b[0m\u001b[0;34m,\u001b[0m \u001b[0;34m*\u001b[0m\u001b[0madditional_forward_args\u001b[0m\u001b[0;34m)\u001b[0m\u001b[0;34m\u001b[0m\u001b[0;34m\u001b[0m\u001b[0m\n\u001b[1;32m    458\u001b[0m         \u001b[0;32mif\u001b[0m \u001b[0madditional_forward_args\u001b[0m \u001b[0;32mis\u001b[0m \u001b[0;32mnot\u001b[0m \u001b[0;32mNone\u001b[0m\u001b[0;34m\u001b[0m\u001b[0;34m\u001b[0m\u001b[0m\n",
      "\u001b[0;32m/opt/conda/lib/python3.8/site-packages/torch/nn/modules/module.py\u001b[0m in \u001b[0;36m_call_impl\u001b[0;34m(self, *input, **kwargs)\u001b[0m\n\u001b[1;32m   1108\u001b[0m         if not (self._backward_hooks or self._forward_hooks or self._forward_pre_hooks or _global_backward_hooks\n\u001b[1;32m   1109\u001b[0m                 or _global_forward_hooks or _global_forward_pre_hooks):\n\u001b[0;32m-> 1110\u001b[0;31m             \u001b[0;32mreturn\u001b[0m \u001b[0mforward_call\u001b[0m\u001b[0;34m(\u001b[0m\u001b[0;34m*\u001b[0m\u001b[0minput\u001b[0m\u001b[0;34m,\u001b[0m \u001b[0;34m**\u001b[0m\u001b[0mkwargs\u001b[0m\u001b[0;34m)\u001b[0m\u001b[0;34m\u001b[0m\u001b[0;34m\u001b[0m\u001b[0m\n\u001b[0m\u001b[1;32m   1111\u001b[0m         \u001b[0;31m# Do not call functions when jit is used\u001b[0m\u001b[0;34m\u001b[0m\u001b[0;34m\u001b[0m\u001b[0;34m\u001b[0m\u001b[0m\n\u001b[1;32m   1112\u001b[0m         \u001b[0mfull_backward_hooks\u001b[0m\u001b[0;34m,\u001b[0m \u001b[0mnon_full_backward_hooks\u001b[0m \u001b[0;34m=\u001b[0m \u001b[0;34m[\u001b[0m\u001b[0;34m]\u001b[0m\u001b[0;34m,\u001b[0m \u001b[0;34m[\u001b[0m\u001b[0;34m]\u001b[0m\u001b[0;34m\u001b[0m\u001b[0;34m\u001b[0m\u001b[0m\n",
      "\u001b[0;32m/berlin_workshop_bias/module/mlp.py\u001b[0m in \u001b[0;36mforward\u001b[0;34m(self, x, mode, return_feat)\u001b[0m\n\u001b[1;32m     36\u001b[0m         \u001b[0mx\u001b[0m \u001b[0;34m=\u001b[0m \u001b[0mx\u001b[0m\u001b[0;34m.\u001b[0m\u001b[0mview\u001b[0m\u001b[0;34m(\u001b[0m\u001b[0mx\u001b[0m\u001b[0;34m.\u001b[0m\u001b[0msize\u001b[0m\u001b[0;34m(\u001b[0m\u001b[0;36m0\u001b[0m\u001b[0;34m)\u001b[0m\u001b[0;34m,\u001b[0m \u001b[0;34m-\u001b[0m\u001b[0;36m1\u001b[0m\u001b[0;34m)\u001b[0m \u001b[0;34m/\u001b[0m \u001b[0;36m255\u001b[0m\u001b[0;34m\u001b[0m\u001b[0;34m\u001b[0m\u001b[0m\n\u001b[1;32m     37\u001b[0m         \u001b[0mfeat\u001b[0m \u001b[0;34m=\u001b[0m \u001b[0mx\u001b[0m \u001b[0;34m=\u001b[0m \u001b[0mself\u001b[0m\u001b[0;34m.\u001b[0m\u001b[0mfeature\u001b[0m\u001b[0;34m(\u001b[0m\u001b[0mx\u001b[0m\u001b[0;34m)\u001b[0m\u001b[0;34m\u001b[0m\u001b[0;34m\u001b[0m\u001b[0m\n\u001b[0;32m---> 38\u001b[0;31m         \u001b[0mfinal_x\u001b[0m \u001b[0;34m=\u001b[0m \u001b[0mself\u001b[0m\u001b[0;34m.\u001b[0m\u001b[0mclassifier\u001b[0m\u001b[0;34m(\u001b[0m\u001b[0mx\u001b[0m\u001b[0;34m)\u001b[0m\u001b[0;34m\u001b[0m\u001b[0;34m\u001b[0m\u001b[0m\n\u001b[0m\u001b[1;32m     39\u001b[0m         \u001b[0;32mif\u001b[0m \u001b[0mmode\u001b[0m \u001b[0;34m==\u001b[0m \u001b[0;34m'tsne'\u001b[0m \u001b[0;32mor\u001b[0m \u001b[0mmode\u001b[0m \u001b[0;34m==\u001b[0m \u001b[0;34m'mixup'\u001b[0m\u001b[0;34m:\u001b[0m\u001b[0;34m\u001b[0m\u001b[0;34m\u001b[0m\u001b[0m\n\u001b[1;32m     40\u001b[0m             \u001b[0;32mreturn\u001b[0m \u001b[0mx\u001b[0m\u001b[0;34m,\u001b[0m \u001b[0mfinal_x\u001b[0m\u001b[0;34m\u001b[0m\u001b[0;34m\u001b[0m\u001b[0m\n",
      "\u001b[0;32m/opt/conda/lib/python3.8/site-packages/torch/nn/modules/module.py\u001b[0m in \u001b[0;36m__getattr__\u001b[0;34m(self, name)\u001b[0m\n\u001b[1;32m   1183\u001b[0m             \u001b[0;32mif\u001b[0m \u001b[0mname\u001b[0m \u001b[0;32min\u001b[0m \u001b[0mmodules\u001b[0m\u001b[0;34m:\u001b[0m\u001b[0;34m\u001b[0m\u001b[0;34m\u001b[0m\u001b[0m\n\u001b[1;32m   1184\u001b[0m                 \u001b[0;32mreturn\u001b[0m \u001b[0mmodules\u001b[0m\u001b[0;34m[\u001b[0m\u001b[0mname\u001b[0m\u001b[0;34m]\u001b[0m\u001b[0;34m\u001b[0m\u001b[0;34m\u001b[0m\u001b[0m\n\u001b[0;32m-> 1185\u001b[0;31m         raise AttributeError(\"'{}' object has no attribute '{}'\".format(\n\u001b[0m\u001b[1;32m   1186\u001b[0m             type(self).__name__, name))\n\u001b[1;32m   1187\u001b[0m \u001b[0;34m\u001b[0m\u001b[0m\n",
      "\u001b[0;31mAttributeError\u001b[0m: 'MLP_DISENTANGLE' object has no attribute 'classifier'"
     ]
    }
   ],
   "source": [
    "# Integrated Gradient\n",
    "ig = IntegratedGradients(model)\n",
    "attr_ig, delta = attribute_image_features(model,ig, x,l_target, baselines=x * 0, return_convergence_delta=True)\n",
    "attr_ig = np.transpose(attr_ig.squeeze().cpu().detach().numpy(), (1, 2, 0))\n",
    "print('Approximation delta: ', abs(delta))\n",
    "\n",
    "# Integrated Gradient with Smoothgrad\n",
    "ig = IntegratedGradients(model)\n",
    "nt = NoiseTunnel(ig)\n",
    "attr_ig_nt = attribute_image_features(model,nt,x,l_target, baselines=x * 0, nt_type='smoothgrad_sq',\n",
    "                                      nt_samples=100, stdevs=0.2)\n",
    "attr_ig_nt = np.transpose(attr_ig_nt.squeeze(0).cpu().detach().numpy(), (1, 2, 0))\n",
    "#DeepLift\n",
    "dl = DeepLift(model)\n",
    "attr_dl = attribute_image_features(model,dl, x,l_target,baselines=x * 0)\n",
    "attr_dl = np.transpose(attr_dl.squeeze(0).cpu().detach().numpy(), (1, 2, 0))"
   ]
  },
  {
   "cell_type": "code",
   "execution_count": 92,
   "id": "f60205da",
   "metadata": {},
   "outputs": [
    {
     "data": {
      "image/png": "[encoded data removed]",
      "text/plain": [
       "<Figure size 432x432 with 1 Axes>"
      ]
     },
     "metadata": {
      "needs_background": "light"
     },
     "output_type": "display_data"
    },
    {
     "data": {
      "image/png": "[encoded data removed]",
      "text/plain": [
       "<Figure size 432x432 with 2 Axes>"
      ]
     },
     "metadata": {
      "needs_background": "light"
     },
     "output_type": "display_data"
    },
    {
     "data": {
      "image/png": "[encoded data removed]",
      "text/plain": [
       "<Figure size 432x432 with 2 Axes>"
      ]
     },
     "metadata": {
      "needs_background": "light"
     },
     "output_type": "display_data"
    },
    {
     "data": {
      "image/png": "[encoded data removed]",
      "text/plain": [
       "<Figure size 432x432 with 2 Axes>"
      ]
     },
     "metadata": {
      "needs_background": "light"
     },
     "output_type": "display_data"
    }
   ],
   "source": [
    "original_image = np.transpose((image.cpu().detach().numpy() / 2) + 0.5, (1, 2, 0))\n",
    "\n",
    "_ = viz.visualize_image_attr(None, original_image, \n",
    "                      method=\"original_image\", title=\"Original Image\")\n",
    "\n",
    "_ = viz.visualize_image_attr(attr_ig, original_image, method=\"blended_heat_map\",sign=\"all\",\n",
    "                          show_colorbar=True, title=\"Overlayed Integrated Gradients\")\n",
    "\n",
    "_ = viz.visualize_image_attr(attr_ig_nt, original_image, method=\"blended_heat_map\", sign=\"absolute_value\", \n",
    "                             outlier_perc=10, show_colorbar=True, \n",
    "                             title=\"Overlayed Integrated Gradients \\n with SmoothGrad Squared\")\n",
    "\n",
    "_ = viz.visualize_image_attr(attr_dl, original_image, method=\"blended_heat_map\",sign=\"all\",show_colorbar=True, \n",
    "                          title=\"Overlayed DeepLift\")"
   ]
  },
  {
   "cell_type": "code",
   "execution_count": null,
   "id": "00b5cead",
   "metadata": {},
   "outputs": [],
   "source": [
    "attr_ig.shape"
   ]
  },
  {
   "cell_type": "code",
   "execution_count": null,
   "id": "613f1f32",
   "metadata": {},
   "outputs": [],
   "source": []
  }
 ],
 "metadata": {
  "kernelspec": {
   "display_name": "Python 3 (ipykernel)",
   "language": "python",
   "name": "python3"
  },
  "language_info": {
   "codemirror_mode": {
    "name": "ipython",
    "version": 3
   },
   "file_extension": ".py",
   "mimetype": "text/x-python",
   "name": "python",
   "nbconvert_exporter": "python",
   "pygments_lexer": "ipython3",
   "version": "3.8.12"
  }
 },
 "nbformat": 4,
 "nbformat_minor": 5
}
