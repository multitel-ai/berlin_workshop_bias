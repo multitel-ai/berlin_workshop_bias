{
 "cells": [
  {
   "cell_type": "markdown",
   "id": "9da7dfa3",
   "metadata": {},
   "source": [
    "# Visualisation for MLP on CMNIST\n",
    "- vanilla\n",
    "- DebiAN\n",
    "- DFA"
   ]
  },
  {
   "cell_type": "code",
   "execution_count": 1,
   "id": "bd5c3114",
   "metadata": {},
   "outputs": [
    {
     "name": "stdout",
     "output_type": "stream",
     "text": [
      "Defaulting to user installation because normal site-packages is not writeable\n",
      "Collecting pandas\n",
      "  Downloading pandas-1.4.4-cp38-cp38-manylinux_2_17_x86_64.manylinux2014_x86_64.whl (11.7 MB)\n",
      "\u001b[K     |████████████████████████████████| 11.7 MB 529 kB/s eta 0:00:01\n",
      "\u001b[?25hRequirement already satisfied: python-dateutil>=2.8.1 in /opt/conda/lib/python3.8/site-packages (from pandas) (2.8.2)\n",
      "Requirement already satisfied: pytz>=2020.1 in /opt/conda/lib/python3.8/site-packages (from pandas) (2021.3)\n",
      "Requirement already satisfied: numpy>=1.18.5 in /opt/conda/lib/python3.8/site-packages (from pandas) (1.21.2)\n",
      "Requirement already satisfied: six>=1.5 in /opt/conda/lib/python3.8/site-packages (from python-dateutil>=2.8.1->pandas) (1.16.0)\n",
      "Installing collected packages: pandas\n",
      "Successfully installed pandas-1.4.4\n"
     ]
    }
   ],
   "source": [
    "! pip install pandas"
   ]
  },
  {
   "cell_type": "code",
   "execution_count": 1,
   "id": "3a03ce30",
   "metadata": {},
   "outputs": [],
   "source": [
    "import os\n",
    "import captum\n",
    "import random\n",
    "import torch\n",
    "import torchvision\n",
    "from torchvision import transforms\n",
    "import numpy as np\n",
    "from captum.attr import IntegratedGradients\n",
    "from captum.attr import Saliency\n",
    "from captum.attr import DeepLift\n",
    "from captum.attr import NoiseTunnel\n",
    "\n",
    "\n",
    "from DebiAN.models.simple_cls import MLP\n",
    "\n",
    "from matplotlib import pyplot as plt\n",
    "from matplotlib import cm\n",
    "from PIL import Image\n",
    "from torchvision import models\n",
    "from tqdm import tqdm\n",
    "from os import path\n",
    "import torch.nn.functional as F\n",
    "import pandas as pd\n",
    "from data.utils import get_dataset, IdxDataset\n",
    "from module.util import get_model"
   ]
  },
  {
   "cell_type": "markdown",
   "id": "03c825b7",
   "metadata": {},
   "source": [
    "# Functions"
   ]
  },
  {
   "cell_type": "code",
   "execution_count": 2,
   "id": "70496c4d",
   "metadata": {},
   "outputs": [],
   "source": [
    "from matplotlib import cm\n",
    "import numpy as np\n",
    "\n",
    "def overlay(input, cam, alpha=0.9, colormap=\"jet\"):\n",
    "    # inspired by https://github.com/frgfm/torch-cam/blob/master/torchcam/utils.py\n",
    "\n",
    "    img = transforms.ToPILImage()(input)\n",
    "    # normalize to 0,1\n",
    "    cam -= torch.min(cam)\n",
    "    cam /= torch.max(cam)\n",
    "    cam_img = transforms.ToPILImage(mode='F')(cam)\n",
    "\n",
    "    if type(colormap) is str:\n",
    "        cmap = cm.get_cmap(colormap)\n",
    "    else:\n",
    "        cmap = colormap\n",
    "\n",
    "    # Resize mask and apply colormap\n",
    "    overlay_raw = cam_img.resize(img.size, resample=Image.BILINEAR)\n",
    "    overlay_raw = cam_img.resize(img.size, resample=Image.NEAREST)\n",
    "    overlay = overlay_raw\n",
    "    overlay = (255 * cmap(np.asarray(overlay) ** 2)[:, :, :3]).astype(np.uint8)\n",
    "    # Overlay the image with the mask\n",
    "    overlayed_img = Image.fromarray((alpha * np.asarray(img) + (1 - alpha) * overlay).astype(np.uint8))\n",
    "    return overlayed_img\n",
    "\n",
    "\n",
    "def attribute_image_features(net,algorithm, input,label, **kwargs):\n",
    "    net.zero_grad()\n",
    "    tensor_attributions = algorithm.attribute(input,\n",
    "                                              target=label,\n",
    "                                              **kwargs\n",
    "                                             )\n",
    "    return tensor_attributions\n",
    "\n",
    "\n",
    "\n"
   ]
  },
  {
   "cell_type": "markdown",
   "id": "5073d353",
   "metadata": {},
   "source": [
    "# Parameters"
   ]
  },
  {
   "cell_type": "code",
   "execution_count": 3,
   "id": "3b9c4ae4",
   "metadata": {},
   "outputs": [],
   "source": [
    "data_path='data'\n",
    "split='test'\n",
    "percent='1pct'\n",
    "\n",
    "models_type=['vanilla','DebiAN','DFA']\n",
    "\n",
    "Saliency_methods=['integrated_gradient','smoothgrad','deeplift']"
   ]
  },
  {
   "cell_type": "markdown",
   "id": "1ab029f6",
   "metadata": {},
   "source": [
    "# LOAD DB CMNIS"
   ]
  },
  {
   "cell_type": "code",
   "execution_count": 4,
   "id": "44c9f6ce",
   "metadata": {},
   "outputs": [
    {
     "name": "stdout",
     "output_type": "stream",
     "text": [
      "10000 samples in test CMNST\n"
     ]
    }
   ],
   "source": [
    "dataset=get_dataset('cmnist',\n",
    "        data_dir=data_path,\n",
    "        dataset_split=split,\n",
    "        transform_split=\"valid\",\n",
    "        percent=percent)\n",
    "\n",
    "if dataset.__len__()==0:\n",
    "    print('Error - data not loaded')\n",
    "else: \n",
    "    print ('{} samples in {} CMNST'.format(dataset.__len__(),split))\n"
   ]
  },
  {
   "cell_type": "markdown",
   "id": "6c40dc19",
   "metadata": {},
   "source": [
    "# LOAD MODELS"
   ]
  },
  {
   "cell_type": "code",
   "execution_count": 5,
   "id": "528053a4",
   "metadata": {},
   "outputs": [
    {
     "name": "stdout",
     "output_type": "stream",
     "text": [
      "vanilla\n",
      "MLP(\n",
      "  (feature): Sequential(\n",
      "    (0): Linear(in_features=2352, out_features=100, bias=True)\n",
      "    (1): ReLU()\n",
      "    (2): Linear(in_features=100, out_features=100, bias=True)\n",
      "    (3): ReLU()\n",
      "    (4): Linear(in_features=100, out_features=32, bias=True)\n",
      "    (5): ReLU()\n",
      "  )\n",
      "  (classifier): Linear(in_features=32, out_features=10, bias=True)\n",
      ")\n",
      "DebiAN\n",
      "MLP(\n",
      "  (feature): Sequential(\n",
      "    (0): Linear(in_features=2352, out_features=100, bias=True)\n",
      "    (1): ReLU()\n",
      "    (2): Linear(in_features=100, out_features=100, bias=True)\n",
      "    (3): ReLU()\n",
      "    (4): Linear(in_features=100, out_features=32, bias=True)\n",
      "    (5): ReLU()\n",
      "  )\n",
      "  (classifier): Linear(in_features=32, out_features=10, bias=True)\n",
      ")\n",
      "DFA\n",
      "MLP_DISENTANGLE(\n",
      "  (feature): Sequential(\n",
      "    (0): Linear(in_features=2352, out_features=100, bias=True)\n",
      "    (1): ReLU()\n",
      "    (2): Linear(in_features=100, out_features=100, bias=True)\n",
      "    (3): ReLU()\n",
      "    (4): Linear(in_features=100, out_features=32, bias=True)\n",
      "    (5): ReLU()\n",
      "  )\n",
      "  (fc): Linear(in_features=64, out_features=10, bias=True)\n",
      ")\n"
     ]
    }
   ],
   "source": [
    "models=dict()\n",
    "col_names=[]\n",
    "col_names.append('id')\n",
    "col_names.append('idx')\n",
    "col_names.append('gt')\n",
    "col_names.append('bias')\n",
    "col_names.append('bias_label')\n",
    "\n",
    "for m in models_type:\n",
    "    print(m)\n",
    "    \n",
    "     \n",
    "    if m=='DFA':\n",
    "        model = get_model('mlp_DISENTANGLE', 10)   \n",
    "        \n",
    "        model_path =\"ckpt/models_cmnist_LDD/no_dec/{}/best_model_l.th\".format(percent)      \n",
    "        state_dict = torch.load(model_path)\n",
    "        model.load_state_dict(state_dict['state_dict'])\n",
    "        model = model.eval()\n",
    "        models[m+'_l']=model\n",
    "        \n",
    "        model_path =\"ckpt/models_cmnist_LDD/no_dec/{}/best_model_b.th\".format(percent)      \n",
    "        state_dict = torch.load(model_path)\n",
    "        model.load_state_dict(state_dict['state_dict'])\n",
    "        model = model.eval()\n",
    "        models[m+'_b']=model\n",
    "        \n",
    "        print(model)\n",
    "        \n",
    "        \n",
    "    else:\n",
    "        if m=='vanilla':\n",
    "            model_path =\"ckpt/cmnist/cmnist_{}_{}.th\".format(percent,m)  \n",
    "            model=MLP(last_hidden_layer=32)\n",
    "            state_dict = torch.load(model_path)\n",
    "            model.load_state_dict(state_dict['state_dict'])\n",
    "        if m=='DebiAN':\n",
    "            model_path =\"ckpt/cmnist/cmnist_{}_{}.th\".format(percent,m)  \n",
    "            model=MLP(last_hidden_layer=32)\n",
    "            state_dict = torch.load(model_path)\n",
    "            model.load_state_dict(state_dict['model'])  \n",
    "        if m=='DebiAN100':\n",
    "            model_path =\"ckpt/cmnist/cmnist_{}_mlp100_DebiAN.th\".format(percent,m)  \n",
    "            model=MLP(last_hidden_layer=100)\n",
    "            state_dict = torch.load(model_path)\n",
    "            model.load_state_dict(state_dict['model'])   \n",
    "        model = model.eval()\n",
    "        print(model)\n",
    "        models[m]=model\n",
    "  \n",
    "    col_names.append('pred_{}'.format(m))\n",
    "    col_names.append('correct_{}'.format(m))\n",
    "    col_names.append('prob_{}'.format(m))\n",
    "    "
   ]
  },
  {
   "cell_type": "markdown",
   "id": "e40e6ff1",
   "metadata": {},
   "source": [
    "# Prediction"
   ]
  },
  {
   "cell_type": "code",
   "execution_count": 6,
   "id": "75dd2254",
   "metadata": {},
   "outputs": [
    {
     "name": "stderr",
     "output_type": "stream",
     "text": [
      "100%|██████████| 10000/10000 [00:34<00:00, 293.58it/s]\n"
     ]
    }
   ],
   "source": [
    "df=pd.DataFrame(columns=col_names) \n",
    "for idx_img in tqdm(range(len(dataset))):\n",
    "    new_row = dict.fromkeys(col_names, 0)   \n",
    "    image,label,idx = dataset[idx_img]\n",
    "    l_target,l_bias=label\n",
    "    l_target=l_target.item()\n",
    "    l_bias=l_bias.item()\n",
    "    x=torch.unsqueeze(image, 0)\n",
    "    new_row['id']=idx_img\n",
    "    new_row['idx']=idx\n",
    "    new_row['gt']=l_target\n",
    "    new_row['bias_label']=l_bias\n",
    "    bias=0\n",
    "    if l_bias==l_target:\n",
    "        bias=1      \n",
    "    new_row['bias']=bias \n",
    "    for m in models_type:\n",
    "        if m=='DFA':\n",
    "            l1=models[m+'_l'].extract(x)  \n",
    "            l2=models[m+'_b'].extract(x)  \n",
    "            logits=models[m+'_l'].fc(torch.hstack((l1,l2)))\n",
    "            \n",
    "            #indices = np.random.permutation(l2.size(0))\n",
    "            #l2_swap = l2[indices]  # z tilde\n",
    "            #z = torch.cat((l1, l2_swap), dim=1)\n",
    "            #logits=models[m+'_l'].fc(z)\n",
    "            \n",
    "            \n",
    "        else:\n",
    "            logits=models[m](x)\n",
    "        assert logits.shape[1]==10\n",
    "        pred = logits.data.max(1, keepdim=True)[1].squeeze(1)  \n",
    "        new_row['pred_{}'.format(m)]=pred.item()\n",
    "        new_row['prob_{}'.format(m)]= torch.max(F.softmax(logits, 1)).item()\n",
    "        correct=0\n",
    "        if pred==l_target:\n",
    "            correct=1\n",
    "        new_row['correct_{}'.format(m)]=correct\n",
    "        new_df = pd.DataFrame([new_row], columns=col_names)\n",
    "    df = pd.concat([new_df, df], ignore_index = True)\n",
    "       "
   ]
  },
  {
   "cell_type": "markdown",
   "id": "d619be0b",
   "metadata": {},
   "source": [
    "# Accuracy"
   ]
  },
  {
   "cell_type": "code",
   "execution_count": 7,
   "id": "85bf0901",
   "metadata": {},
   "outputs": [
    {
     "data": {
      "text/plain": [
       "<AxesSubplot:>"
      ]
     },
     "execution_count": 7,
     "metadata": {},
     "output_type": "execute_result"
    },
    {
     "data": {
      "image/png": "[encoded data removed]",
      "text/plain": [
       "<Figure size 432x288 with 1 Axes>"
      ]
     },
     "metadata": {
      "needs_background": "light"
     },
     "output_type": "display_data"
    }
   ],
   "source": [
    "df['bias_label'].hist()"
   ]
  },
  {
   "cell_type": "code",
   "execution_count": 8,
   "id": "437ca50a",
   "metadata": {},
   "outputs": [
    {
     "name": "stdout",
     "output_type": "stream",
     "text": [
      "RATIO: 0.8994\n",
      "0.4619\n",
      "0.4292\n",
      "0.1058\n",
      "0.9950298210735586\n",
      "0.9960238568588469\n",
      "0.9264413518886679\n",
      "0.40226817878585724\n",
      "0.3657994218367801\n",
      "0.014009339559706471\n"
     ]
    }
   ],
   "source": [
    "conflict_df=df[df.bias==0]\n",
    "align_df=df[df.bias==1]\n",
    "ratio=len(conflict_df)/len(df)\n",
    "print('RATIO: {}'.format(ratio))\n",
    "\n",
    "# Accuracy\n",
    "acc_vanilla=df['correct_vanilla'].sum()/len(df)\n",
    "acc_DebiAN=df['correct_DebiAN'].sum()/len(df)\n",
    "acc_DebiAN100=df['correct_DFA'].sum()/len(df)\n",
    "print(acc_vanilla)\n",
    "print(acc_DebiAN)\n",
    "print(acc_DebiAN100)\n",
    "\n",
    "\n",
    "\n",
    "# Accuracy align-bias data\n",
    "align_acc_vanilla=align_df['correct_vanilla'].sum()/len(align_df)\n",
    "align_acc_DebiAN=align_df['correct_DebiAN'].sum()/len(align_df)\n",
    "align_acc_DebiAN100=align_df['correct_DFA'].sum()/len(align_df)\n",
    "print(align_acc_vanilla)\n",
    "print(align_acc_DebiAN)\n",
    "print(align_acc_DebiAN100)\n",
    "\n",
    "# Accuracy conflict-bias data\n",
    "conflict_acc_vanilla=conflict_df['correct_vanilla'].sum()/len(conflict_df)\n",
    "conflict_acc_DebiAN=conflict_df['correct_DebiAN'].sum()/len(conflict_df)\n",
    "conflict_acc_DebiAN100=conflict_df['correct_DFA'].sum()/len(conflict_df)\n",
    "print(conflict_acc_vanilla)\n",
    "print(conflict_acc_DebiAN)\n",
    "print(conflict_acc_DebiAN100)"
   ]
  },
  {
   "cell_type": "markdown",
   "id": "43510a49",
   "metadata": {},
   "source": [
    "# Visualize prediction Biased"
   ]
  },
  {
   "cell_type": "code",
   "execution_count": 91,
   "id": "42f59b67",
   "metadata": {},
   "outputs": [],
   "source": [
    "import matplotlib.pyplot as plt\n",
    "import numpy as np\n",
    "\n",
    "%matplotlib inline\n",
    "\n",
    "import torch\n",
    "import torchvision\n",
    "import torchvision.transforms as transforms\n",
    "import torchvision.transforms.functional as TF\n",
    "import torch.nn.functional as F\n",
    "\n",
    "from torchvision import models\n",
    "\n",
    "from captum.attr import IntegratedGradients\n",
    "from captum.attr import Saliency\n",
    "from captum.attr import DeepLift\n",
    "from captum.attr import NoiseTunnel\n",
    "from captum.attr import visualization as viz"
   ]
  },
  {
   "cell_type": "code",
   "execution_count": 79,
   "id": "0d444a2f",
   "metadata": {},
   "outputs": [],
   "source": [
    "df_b=df[(df.correct_vanilla==0)&(df.correct_DFA==1)]"
   ]
  },
  {
   "cell_type": "code",
   "execution_count": 82,
   "id": "6450e4c1",
   "metadata": {},
   "outputs": [
    {
     "name": "stdout",
     "output_type": "stream",
     "text": [
      "17\n",
      "        id gt bias bias_label pred_vanilla correct_vanilla  prob_vanilla  \\\n",
      "482   4517  5    1          5            1               0      0.669997   \n",
      "521   4478  4    1          4            0               0      0.993117   \n",
      "652   4347  5    1          5            4               0      0.999953   \n",
      "888   4111  5    1          5            6               0      0.795221   \n",
      "969   4030  3    0          2            2               0      1.000000   \n",
      "1265  3734  0    0          8            8               0      0.999933   \n",
      "1659  3340  5    1          5            1               0      0.933214   \n",
      "2067  2932  9    1          9            7               0      0.610049   \n",
      "2149  2850  1    1          1            2               0      0.988855   \n",
      "2636  2363  1    1          1            6               0      0.950430   \n",
      "3046  1953  1    1          1            2               0      1.000000   \n",
      "3223  1776  5    1          5            6               0      0.783947   \n",
      "3568  1431  8    1          8            9               0      0.901736   \n",
      "3937  1062  5    1          5            6               0      0.924746   \n",
      "4138   861  0    1          0            4               0      0.918282   \n",
      "4594   405  9    1          9            1               0      0.957195   \n",
      "4714   285  4    1          4            2               0      0.771375   \n",
      "\n",
      "     pred_DebiAN correct_DebiAN  prob_DebiAN pred_DFA correct_DFA  prob_DFA  \n",
      "482            5              1     0.999802        5           1       1.0  \n",
      "521            3              0     0.889314        4           1       1.0  \n",
      "652            5              1     0.999973        5           1       1.0  \n",
      "888            5              1     0.978701        5           1       1.0  \n",
      "969            2              0     0.999834        3           1       1.0  \n",
      "1265           8              0     0.950499        0           1       1.0  \n",
      "1659           5              1     0.978181        5           1       1.0  \n",
      "2067           9              1     0.999943        9           1       1.0  \n",
      "2149           2              0     0.654529        1           1       1.0  \n",
      "2636           1              1     0.985426        1           1       1.0  \n",
      "3046           2              0     0.999758        1           1       1.0  \n",
      "3223           5              1     0.996905        5           1       1.0  \n",
      "3568           8              1     0.980240        8           1       1.0  \n",
      "3937           5              1     0.983074        5           1       1.0  \n",
      "4138           0              1     0.527438        0           1       1.0  \n",
      "4594           8              0     0.859331        9           1       1.0  \n",
      "4714           6              0     0.529252        4           1       1.0  \n"
     ]
    }
   ],
   "source": [
    "print(len(df_b))\n",
    "print(df_b)"
   ]
  },
  {
   "cell_type": "code",
   "execution_count": 87,
   "id": "39acc581",
   "metadata": {},
   "outputs": [],
   "source": [
    "image_idx=4478\n",
    "image,label,idx = dataset[image_idx]\n",
    "x=torch.unsqueeze(image, 0)\n",
    "image=torch.squeeze(image,0)\n",
    "x.requires_grad = True\n",
    "model=models['DebiAN']"
   ]
  },
  {
   "cell_type": "code",
   "execution_count": 89,
   "id": "d2a21495",
   "metadata": {},
   "outputs": [
    {
     "name": "stdout",
     "output_type": "stream",
     "text": [
      "Approximation delta:  tensor([0.1755], dtype=torch.float64)\n"
     ]
    }
   ],
   "source": [
    "# Integrated Gradient\n",
    "ig = IntegratedGradients(model)\n",
    "attr_ig, delta = attribute_image_features(model,ig, x,l_target, baselines=x * 0, return_convergence_delta=True)\n",
    "attr_ig = np.transpose(attr_ig.squeeze().cpu().detach().numpy(), (1, 2, 0))\n",
    "print('Approximation delta: ', abs(delta))\n",
    "\n",
    "# Integrated Gradient with Smoothgrad\n",
    "ig = IntegratedGradients(model)\n",
    "nt = NoiseTunnel(ig)\n",
    "attr_ig_nt = attribute_image_features(model,nt,x,l_target, baselines=x * 0, nt_type='smoothgrad_sq',\n",
    "                                      nt_samples=100, stdevs=0.2)\n",
    "attr_ig_nt = np.transpose(attr_ig_nt.squeeze(0).cpu().detach().numpy(), (1, 2, 0))\n",
    "#DeepLift\n",
    "dl = DeepLift(model)\n",
    "attr_dl = attribute_image_features(model,dl, x,l_target,baselines=x * 0)\n",
    "attr_dl = np.transpose(attr_dl.squeeze(0).cpu().detach().numpy(), (1, 2, 0))"
   ]
  },
  {
   "cell_type": "code",
   "execution_count": 92,
   "id": "f60205da",
   "metadata": {},
   "outputs": [
    {
     "data": {
      "image/png": "[encoded data removed]",
      "text/plain": [
       "<Figure size 432x432 with 1 Axes>"
      ]
     },
     "metadata": {
      "needs_background": "light"
     },
     "output_type": "display_data"
    },
    {
     "data": {
      "image/png": "[encoded data removed]",
      "text/plain": [
       "<Figure size 432x432 with 2 Axes>"
      ]
     },
     "metadata": {
      "needs_background": "light"
     },
     "output_type": "display_data"
    },
    {
     "data": {
      "image/png": "[encoded data removed]",
      "text/plain": [
       "<Figure size 432x432 with 2 Axes>"
      ]
     },
     "metadata": {
      "needs_background": "light"
     },
     "output_type": "display_data"
    },
    {
     "data": {
      "image/png": "[encoded data removed]",
      "text/plain": [
       "<Figure size 432x432 with 2 Axes>"
      ]
     },
     "metadata": {
      "needs_background": "light"
     },
     "output_type": "display_data"
    }
   ],
   "source": [
    "original_image = np.transpose((image.cpu().detach().numpy() / 2) + 0.5, (1, 2, 0))\n",
    "\n",
    "_ = viz.visualize_image_attr(None, original_image, \n",
    "                      method=\"original_image\", title=\"Original Image\")\n",
    "\n",
    "_ = viz.visualize_image_attr(attr_ig, original_image, method=\"blended_heat_map\",sign=\"all\",\n",
    "                          show_colorbar=True, title=\"Overlayed Integrated Gradients\")\n",
    "\n",
    "_ = viz.visualize_image_attr(attr_ig_nt, original_image, method=\"blended_heat_map\", sign=\"absolute_value\", \n",
    "                             outlier_perc=10, show_colorbar=True, \n",
    "                             title=\"Overlayed Integrated Gradients \\n with SmoothGrad Squared\")\n",
    "\n",
    "_ = viz.visualize_image_attr(attr_dl, original_image, method=\"blended_heat_map\",sign=\"all\",show_colorbar=True, \n",
    "                          title=\"Overlayed DeepLift\")"
   ]
  },
  {
   "cell_type": "code",
   "execution_count": null,
   "id": "00b5cead",
   "metadata": {},
   "outputs": [],
   "source": [
    "attr_ig.shape"
   ]
  },
  {
   "cell_type": "code",
   "execution_count": null,
   "id": "613f1f32",
   "metadata": {},
   "outputs": [],
   "source": []
  }
 ],
 "metadata": {
  "kernelspec": {
   "display_name": "Python 3 (ipykernel)",
   "language": "python",
   "name": "python3"
  },
  "language_info": {
   "codemirror_mode": {
    "name": "ipython",
    "version": 3
   },
   "file_extension": ".py",
   "mimetype": "text/x-python",
   "name": "python",
   "nbconvert_exporter": "python",
   "pygments_lexer": "ipython3",
   "version": "3.8.12"
  }
 },
 "nbformat": 4,
 "nbformat_minor": 5
}
