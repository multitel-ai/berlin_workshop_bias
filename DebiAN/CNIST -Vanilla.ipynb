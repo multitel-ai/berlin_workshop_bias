{
 "cells": [
  {
   "cell_type": "code",
   "execution_count": 12,
   "id": "963da83f",
   "metadata": {},
   "outputs": [],
   "source": [
    "import os\n",
    "import torch\n",
    "import numpy as np\n",
    "from datasets.cmnist import CMNIST\n",
    "from torch.utils.data import DataLoader\n",
    "from models.simple_cls import get_simple_classifier"
   ]
  },
  {
   "cell_type": "code",
   "execution_count": 20,
   "id": "7e5fd76e",
   "metadata": {},
   "outputs": [],
   "source": [
    "dset_dir='data/cmnist/5pct'\n",
    "_batch_size=256\n",
    "num_workers=0\n",
    "pin_memory=False\n",
    "\n",
    "_lr = 0.001 # learning_rate\n",
    "epochs = 10 # How much to train a model\n",
    "\n",
    "device = 'cuda' if torch.cuda.is_available() else 'cpu'\n",
    "\n",
    "torch.manual_seed(1234)\n",
    "if device =='cuda':\n",
    "    torch.cuda.manual_seed_all(1234)"
   ]
  },
  {
   "cell_type": "code",
   "execution_count": 21,
   "id": "f8eaced5",
   "metadata": {},
   "outputs": [],
   "source": [
    "train_dataset = CMNIST(dset_dir, 'train')\n",
    "test_dataset = CMNIST(dset_dir, 'valid')\n",
    "train_loader = DataLoader(train_dataset, batch_size=_batch_size, num_workers=num_workers,\n",
    "                                       shuffle=True, pin_memory=pin_memory,\n",
    "                                       persistent_workers=num_workers > 0)        \n",
    "test_loader = DataLoader(test_dataset, batch_size=_batch_size, num_workers=num_workers,\n",
    "                                      shuffle=False, pin_memory=pin_memory,\n",
    "                                      persistent_workers=num_workers > 0)"
   ]
  },
  {
   "cell_type": "code",
   "execution_count": 22,
   "id": "0b6b970f",
   "metadata": {},
   "outputs": [],
   "source": [
    "model =  get_simple_classifier(arch='mlp').to(device)\n",
    "optimizer = torch.optim.Adam(params = model.parameters(),lr=_lr)\n",
    "criterion = torch.nn.CrossEntropyLoss(reduction='none')"
   ]
  },
  {
   "cell_type": "code",
   "execution_count": null,
   "id": "88cf92b5",
   "metadata": {},
   "outputs": [],
   "source": []
  },
  {
   "cell_type": "code",
   "execution_count": null,
   "id": "cfc10367",
   "metadata": {},
   "outputs": [],
   "source": []
  }
 ],
 "metadata": {
  "kernelspec": {
   "display_name": "Python 3 (ipykernel)",
   "language": "python",
   "name": "python3"
  },
  "language_info": {
   "codemirror_mode": {
    "name": "ipython",
    "version": 3
   },
   "file_extension": ".py",
   "mimetype": "text/x-python",
   "name": "python",
   "nbconvert_exporter": "python",
   "pygments_lexer": "ipython3",
   "version": "3.8.12"
  }
 },
 "nbformat": 4,
 "nbformat_minor": 5
}
