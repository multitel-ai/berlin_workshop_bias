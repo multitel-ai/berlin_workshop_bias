{
 "cells": [
  {
   "cell_type": "code",
   "execution_count": 1,
   "id": "963da83f",
   "metadata": {},
   "outputs": [
    {
     "name": "stdout",
     "output_type": "stream",
     "text": [
      "Test for CNIST Dataset\r\n",
      "0\r\n",
      "Traceback (most recent call last):\r\n",
      "  File \"datasets/cmnist.py\", line 61, in <module>\r\n",
      "    img,label,idx=dataset.__getitem__(0)\r\n",
      "  File \"datasets/cmnist.py\", line 42, in __getitem__\r\n",
      "    img = Image.open(self.data[idx]).convert('RGB')\r\n",
      "IndexError: list index out of range\r\n"
     ]
    }
   ],
   "source": [
    "!python datasets/cmnist.py"
   ]
  },
  {
   "cell_type": "code",
   "execution_count": null,
   "id": "f8eaced5",
   "metadata": {},
   "outputs": [],
   "source": []
  }
 ],
 "metadata": {
  "kernelspec": {
   "display_name": "Python 3 (ipykernel)",
   "language": "python",
   "name": "python3"
  },
  "language_info": {
   "codemirror_mode": {
    "name": "ipython",
    "version": 3
   },
   "file_extension": ".py",
   "mimetype": "text/x-python",
   "name": "python",
   "nbconvert_exporter": "python",
   "pygments_lexer": "ipython3",
   "version": "3.8.12"
  }
 },
 "nbformat": 4,
 "nbformat_minor": 5
}
