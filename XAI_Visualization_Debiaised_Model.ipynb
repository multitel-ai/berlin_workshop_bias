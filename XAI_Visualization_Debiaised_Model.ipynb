{
 "cells": [
  {
   "cell_type": "code",
   "execution_count": 23,
   "id": "70d99c15",
   "metadata": {},
   "outputs": [],
   "source": [
    "from data.utils import get_dataset\n",
    "import captum\n",
    "import random\n",
    "import torch\n",
    "import torchvision\n",
    "from torchvision import transforms\n",
    "import numpy as np\n",
    "from captum.attr import IntegratedGradients\n",
    "from DebiAN.models.simple_cls import get_simple_classifier\n",
    "\n",
    "from matplotlib import pyplot as plt\n",
    "from matplotlib import cm\n",
    "from PIL import Image\n",
    "from torchvision import models"
   ]
  },
  {
   "cell_type": "code",
   "execution_count": 24,
   "id": "39b4243d",
   "metadata": {},
   "outputs": [],
   "source": [
    "?get_simple_classifier"
   ]
  },
  {
   "cell_type": "markdown",
   "id": "5a57c5f6",
   "metadata": {},
   "source": [
    "# Functions"
   ]
  },
  {
   "cell_type": "code",
   "execution_count": 25,
   "id": "32eae6ed",
   "metadata": {},
   "outputs": [],
   "source": [
    "from matplotlib import cm\n",
    "import numpy as np\n",
    "\n",
    "def overlay(input, cam, alpha=0.9, colormap=\"jet\"):\n",
    "    # inspired by https://github.com/frgfm/torch-cam/blob/master/torchcam/utils.py\n",
    "\n",
    "    img = transforms.ToPILImage()(input)\n",
    "    # normalize to 0,1\n",
    "    cam -= torch.min(cam)\n",
    "    cam /= torch.max(cam)\n",
    "    cam_img = transforms.ToPILImage(mode='F')(cam)\n",
    "\n",
    "    if type(colormap) is str:\n",
    "        cmap = cm.get_cmap(colormap)\n",
    "    else:\n",
    "        cmap = colormap\n",
    "\n",
    "    # Resize mask and apply colormap\n",
    "    overlay_raw = cam_img.resize(img.size, resample=Image.BILINEAR)\n",
    "    overlay_raw = cam_img.resize(img.size, resample=Image.NEAREST)\n",
    "    overlay = overlay_raw\n",
    "    overlay = (255 * cmap(np.asarray(overlay) ** 2)[:, :, :3]).astype(np.uint8)\n",
    "    # Overlay the image with the mask\n",
    "    overlayed_img = Image.fromarray((alpha * np.asarray(img) + (1 - alpha) * overlay).astype(np.uint8))\n",
    "    return overlayed_img\n",
    "\n",
    "\n",
    "def attribute_image_features(net,algorithm, input,label, **kwargs):\n",
    "    net.zero_grad()\n",
    "    tensor_attributions = algorithm.attribute(input,\n",
    "                                              target=label,\n",
    "                                              **kwargs\n",
    "                                             )\n",
    "    return tensor_attributions"
   ]
  },
  {
   "cell_type": "markdown",
   "id": "c7f57ed2",
   "metadata": {},
   "source": [
    "# Parameters"
   ]
  },
  {
   "cell_type": "code",
   "execution_count": 26,
   "id": "190253d4",
   "metadata": {},
   "outputs": [],
   "source": [
    "fontsize = 32\n",
    "viz = True\n",
    "idx_img=4"
   ]
  },
  {
   "cell_type": "markdown",
   "id": "7a6aceac",
   "metadata": {},
   "source": [
    "# LOAD MODEL and DATA"
   ]
  },
  {
   "cell_type": "code",
   "execution_count": 27,
   "id": "215effc7",
   "metadata": {},
   "outputs": [
    {
     "name": "stdout",
     "output_type": "stream",
     "text": [
      "MLP(\n",
      "  (feature): Sequential(\n",
      "    (0): Linear(in_features=2352, out_features=100, bias=True)\n",
      "    (1): ReLU()\n",
      "    (2): Linear(in_features=100, out_features=100, bias=True)\n",
      "    (3): ReLU()\n",
      "    (4): Linear(in_features=100, out_features=100, bias=True)\n",
      "    (5): ReLU()\n",
      "  )\n",
      "  (classifier): Linear(in_features=100, out_features=10, bias=True)\n",
      ")\n"
     ]
    }
   ],
   "source": [
    "model_path=\"DebiAN/exp/cmnist/debian_bs_256_wd_1E-04_lr_1E-03_cmnist_5pct/last.pth\"\n",
    "\n",
    "# Seed everything\n",
    "random.seed(1234)\n",
    "np.random.seed(1234)\n",
    "torch.manual_seed(1234)\n",
    "torch.cuda.manual_seed_all(1234)\n",
    "\n",
    "# Get dataset\n",
    "test_dataset=get_dataset('cmnist',\n",
    "        data_dir='data/',\n",
    "        dataset_split=\"test\",\n",
    "        transform_split=\"valid\",\n",
    "        percent='1pct')\n",
    "\n",
    "testloader = torch.utils.data.DataLoader(test_dataset, batch_size=4,\n",
    "                                         shuffle=False, num_workers=2)\n",
    "#dataiter = iter(testloader)\n",
    "#images, labels = dataiter.next()\n",
    "\n",
    "# load checkpoint\n",
    "\n",
    "model=get_simple_classifier('mlp',last_hidden_layer=100)\n",
    "state_dict = torch.load(model_path)\n",
    "model.load_state_dict(state_dict['model'])\n",
    "model.cpu()\n",
    "model = model.eval()\n",
    "print(model)\n"
   ]
  },
  {
   "cell_type": "markdown",
   "id": "dce517f5",
   "metadata": {},
   "source": [
    "# Prediction"
   ]
  },
  {
   "cell_type": "code",
   "execution_count": 28,
   "id": "405bc500",
   "metadata": {},
   "outputs": [
    {
     "data": {
      "text/plain": [
       "torch.Size([3, 28, 28])"
      ]
     },
     "execution_count": 28,
     "metadata": {},
     "output_type": "execute_result"
    }
   ],
   "source": [
    "image,label,idx = test_dataset[idx_img]\n",
    "l_target,l_bias=label\n",
    "l_target=l_target.item()\n",
    "l_bias=l_bias.item()\n",
    "correct=0\n",
    "bias=0\n",
    "x=torch.unsqueeze(image, 0)\n",
    "image=torch.squeeze(image,0)\n",
    "image.size()"
   ]
  },
  {
   "cell_type": "code",
   "execution_count": 29,
   "id": "3c212b09",
   "metadata": {},
   "outputs": [
    {
     "name": "stdout",
     "output_type": "stream",
     "text": [
      "Good prediction of 7\n",
      " with conflict-bias data\n"
     ]
    }
   ],
   "source": [
    "logits=model(x)\n",
    "pred = logits.data.max(1, keepdim=True)[1].squeeze(1)\n",
    "pred=pred.item()\n",
    "\n",
    "if pred==l_target:\n",
    "    correct=1\n",
    "if l_bias==l_target:\n",
    "    bias=1\n",
    "if correct:\n",
    "    print('Good prediction of {}'.format(pred))\n",
    "else:\n",
    "    print('Bad prediction of{}'.format(pred))\n",
    "if bias:\n",
    "    print(' with allign-bias data')\n",
    "else:\n",
    "     print(' with conflict-bias data')"
   ]
  },
  {
   "cell_type": "markdown",
   "id": "bea2ea1c",
   "metadata": {},
   "source": [
    "# Saliency Map"
   ]
  },
  {
   "cell_type": "code",
   "execution_count": 30,
   "id": "cbde22f6",
   "metadata": {},
   "outputs": [],
   "source": [
    "import matplotlib.pyplot as plt\n",
    "import numpy as np\n",
    "\n",
    "%matplotlib inline\n",
    "\n",
    "import torch\n",
    "import torchvision\n",
    "import torchvision.transforms as transforms\n",
    "import torchvision.transforms.functional as TF\n",
    "import torch.nn.functional as F\n",
    "\n",
    "from torchvision import models\n",
    "\n",
    "from captum.attr import IntegratedGradients\n",
    "from captum.attr import Saliency\n",
    "from captum.attr import DeepLift\n",
    "from captum.attr import NoiseTunnel\n",
    "from captum.attr import visualization as viz"
   ]
  },
  {
   "cell_type": "code",
   "execution_count": 31,
   "id": "f8909df4",
   "metadata": {},
   "outputs": [],
   "source": [
    "x.requires_grad = True"
   ]
  },
  {
   "cell_type": "code",
   "execution_count": null,
   "id": "27a5bf26",
   "metadata": {},
   "outputs": [],
   "source": []
  },
  {
   "cell_type": "code",
   "execution_count": 60,
   "id": "067f632f",
   "metadata": {},
   "outputs": [],
   "source": [
    "# Saliency\n",
    "saliency = Saliency(model)\n",
    "grads = saliency.attribute(x, target=l_target)\n",
    "grads = np.transpose(grads.squeeze().cpu().detach().numpy(), (1, 2, 0))"
   ]
  },
  {
   "cell_type": "code",
   "execution_count": 61,
   "id": "c36c6864",
   "metadata": {},
   "outputs": [
    {
     "name": "stdout",
     "output_type": "stream",
     "text": [
      "Approximation delta:  tensor([0.1066], dtype=torch.float64)\n"
     ]
    }
   ],
   "source": [
    "# Integrated Gradient\n",
    "ig = IntegratedGradients(model)\n",
    "attr_ig, delta = attribute_image_features(model,ig, x,l_target, baselines=x * 0, return_convergence_delta=True)\n",
    "attr_ig = np.transpose(attr_ig.squeeze().cpu().detach().numpy(), (1, 2, 0))\n",
    "print('Approximation delta: ', abs(delta))"
   ]
  },
  {
   "cell_type": "code",
   "execution_count": 62,
   "id": "b84c83ce",
   "metadata": {},
   "outputs": [],
   "source": [
    "# Integrated Gradient with Smoothgrad\n",
    "ig = IntegratedGradients(model)\n",
    "nt = NoiseTunnel(ig)\n",
    "attr_ig_nt = attribute_image_features(model,nt,x,l_target, baselines=x * 0, nt_type='smoothgrad_sq',\n",
    "                                      nt_samples=100, stdevs=0.2)\n",
    "attr_ig_nt = np.transpose(attr_ig_nt.squeeze(0).cpu().detach().numpy(), (1, 2, 0))\n"
   ]
  },
  {
   "cell_type": "code",
   "execution_count": 63,
   "id": "91d1e5c0",
   "metadata": {},
   "outputs": [],
   "source": [
    "#DeepLift\n",
    "dl = DeepLift(model)\n",
    "attr_dl = attribute_image_features(model,dl, x,l_target,baselines=x * 0)\n",
    "attr_dl = np.transpose(attr_dl.squeeze(0).cpu().detach().numpy(), (1, 2, 0))"
   ]
  },
  {
   "cell_type": "code",
   "execution_count": 64,
   "id": "0fef8518",
   "metadata": {},
   "outputs": [
    {
     "name": "stdout",
     "output_type": "stream",
     "text": [
      "Original Image\n",
      "Predicted: 7  Probability: 0.9917855858802795\n"
     ]
    }
   ],
   "source": [
    "print('Original Image')\n",
    "print('Predicted:', pred, \n",
    "      ' Probability:', torch.max(F.softmax(logits, 1)).item())\n",
    "original_image = np.transpose((image.cpu().detach().numpy() / 2) + 0.5, (1, 2, 0))"
   ]
  },
  {
   "cell_type": "markdown",
   "id": "a27ccbe6",
   "metadata": {},
   "source": [
    "# Visualization"
   ]
  },
  {
   "cell_type": "code",
   "execution_count": 65,
   "id": "8019ae49",
   "metadata": {
    "scrolled": false
   },
   "outputs": [
    {
     "data": {
      "image/png": "[encoded data removed]",
      "text/plain": [
       "<Figure size 432x432 with 1 Axes>"
      ]
     },
     "metadata": {
      "needs_background": "light"
     },
     "output_type": "display_data"
    },
    {
     "data": {
      "image/png": "[encoded data removed]",
      "text/plain": [
       "<Figure size 432x432 with 2 Axes>"
      ]
     },
     "metadata": {
      "needs_background": "light"
     },
     "output_type": "display_data"
    },
    {
     "data": {
      "image/png": "[encoded data removed]",
      "text/plain": [
       "<Figure size 432x432 with 2 Axes>"
      ]
     },
     "metadata": {
      "needs_background": "light"
     },
     "output_type": "display_data"
    },
    {
     "data": {
      "image/png": "[encoded data removed]",
      "text/plain": [
       "<Figure size 432x432 with 2 Axes>"
      ]
     },
     "metadata": {
      "needs_background": "light"
     },
     "output_type": "display_data"
    },
    {
     "data": {
      "image/png": "[encoded data removed]",
      "text/plain": [
       "<Figure size 432x432 with 2 Axes>"
      ]
     },
     "metadata": {
      "needs_background": "light"
     },
     "output_type": "display_data"
    }
   ],
   "source": [
    "_ = viz.visualize_image_attr(None, original_image, \n",
    "                      method=\"original_image\", title=\"Original Image\")\n",
    "\n",
    "_ = viz.visualize_image_attr(grads, original_image, method=\"blended_heat_map\", sign=\"absolute_value\",\n",
    "                          show_colorbar=True, title=\"Overlayed Gradient Magnitudes\")\n",
    "\n",
    "_ = viz.visualize_image_attr(attr_ig, original_image, method=\"blended_heat_map\",sign=\"all\",\n",
    "                          show_colorbar=True, title=\"Overlayed Integrated Gradients\")\n",
    "\n",
    "_ = viz.visualize_image_attr(attr_ig_nt, original_image, method=\"blended_heat_map\", sign=\"absolute_value\", \n",
    "                             outlier_perc=10, show_colorbar=True, \n",
    "                             title=\"Overlayed Integrated Gradients \\n with SmoothGrad Squared\")\n",
    "\n",
    "_ = viz.visualize_image_attr(attr_dl, original_image, method=\"blended_heat_map\",sign=\"all\",show_colorbar=True, \n",
    "                          title=\"Overlayed DeepLift\")"
   ]
  },
  {
   "cell_type": "code",
   "execution_count": 68,
   "id": "7d6ba909",
   "metadata": {},
   "outputs": [
    {
     "name": "stdout",
     "output_type": "stream",
     "text": [
      "(28, 28, 3)\n",
      "(28, 28)\n"
     ]
    }
   ],
   "source": [
    "print(attr_dl.shape)\n",
    "s_map=attr_dl.sum(2)\n",
    "print(s_map.shape)"
   ]
  },
  {
   "cell_type": "markdown",
   "id": "fff5574f",
   "metadata": {},
   "source": [
    "# SAVE image"
   ]
  },
  {
   "cell_type": "code",
   "execution_count": 67,
   "id": "6d5f9f60",
   "metadata": {},
   "outputs": [
    {
     "data": {
      "text/plain": [
       "<Figure size 432x288 with 0 Axes>"
      ]
     },
     "metadata": {},
     "output_type": "display_data"
    }
   ],
   "source": [
    "viz=True\n",
    "plt.tight_layout()\n",
    "if viz:\n",
    "    #print(name, int(dataset[i][1]), imagenet_labels[int(dataset[i][1])])\n",
    "    plt.show()\n",
    "else:\n",
    "    fig.savefig(\"comparison/\"+model_type + \"/\" + name)\n",
    "    fig.clear(True)"
   ]
  },
  {
   "cell_type": "code",
   "execution_count": null,
   "id": "1b965bb0",
   "metadata": {},
   "outputs": [],
   "source": []
  }
 ],
 "metadata": {
  "kernelspec": {
   "display_name": "Python 3 (ipykernel)",
   "language": "python",
   "name": "python3"
  },
  "language_info": {
   "codemirror_mode": {
    "name": "ipython",
    "version": 3
   },
   "file_extension": ".py",
   "mimetype": "text/x-python",
   "name": "python",
   "nbconvert_exporter": "python",
   "pygments_lexer": "ipython3",
   "version": "3.8.12"
  }
 },
 "nbformat": 4,
 "nbformat_minor": 5
}
