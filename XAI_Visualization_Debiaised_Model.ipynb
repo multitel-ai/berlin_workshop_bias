{
 "cells": [
  {
   "cell_type": "code",
   "execution_count": 62,
   "id": "70d99c15",
   "metadata": {},
   "outputs": [],
   "source": [
    "from data.utils import get_dataset\n",
    "import captum\n",
    "import random\n",
    "import torch\n",
    "import torchvision\n",
    "from torchvision import transforms\n",
    "import numpy as np\n",
    "from captum.attr import IntegratedGradients\n",
    "from DebiAN.models.simple_cls import get_simple_classifier\n",
    "\n",
    "from matplotlib import pyplot as plt\n",
    "from matplotlib import cm\n",
    "from PIL import Image"
   ]
  },
  {
   "cell_type": "code",
   "execution_count": 63,
   "id": "32eae6ed",
   "metadata": {},
   "outputs": [],
   "source": [
    "from matplotlib import cm\n",
    "import numpy as np\n",
    "\n",
    "def overlay(input, cam, alpha=0.9, colormap=\"jet\"):\n",
    "    # inspired by https://github.com/frgfm/torch-cam/blob/master/torchcam/utils.py\n",
    "\n",
    "    img = transforms.ToPILImage()(input)\n",
    "    # normalize to 0,1\n",
    "    cam -= torch.min(cam)\n",
    "    cam /= torch.max(cam)\n",
    "    cam_img = transforms.ToPILImage(mode='F')(cam)\n",
    "\n",
    "    if type(colormap) is str:\n",
    "        cmap = cm.get_cmap(colormap)\n",
    "    else:\n",
    "        cmap = colormap\n",
    "\n",
    "    # Resize mask and apply colormap\n",
    "    overlay_raw = cam_img.resize(img.size, resample=Image.BILINEAR)\n",
    "    overlay_raw = cam_img.resize(img.size, resample=Image.NEAREST)\n",
    "    overlay = overlay_raw\n",
    "    overlay = (255 * cmap(np.asarray(overlay) ** 2)[:, :, :3]).astype(np.uint8)\n",
    "    # Overlay the image with the mask\n",
    "    overlayed_img = Image.fromarray((alpha * np.asarray(img) + (1 - alpha) * overlay).astype(np.uint8))\n",
    "    return overlayed_img"
   ]
  },
  {
   "cell_type": "code",
   "execution_count": 16,
   "id": "190253d4",
   "metadata": {},
   "outputs": [],
   "source": [
    "model_path=\"DebiAN/exp/cmnist/debian_bs_256_wd_1E-04_lr_1E-03_cmnist_0.5pct/last.pth\""
   ]
  },
  {
   "cell_type": "code",
   "execution_count": 17,
   "id": "a342fee1",
   "metadata": {},
   "outputs": [],
   "source": [
    "model=get_simple_classifier('mlp')"
   ]
  },
  {
   "cell_type": "code",
   "execution_count": 22,
   "id": "215effc7",
   "metadata": {},
   "outputs": [],
   "source": [
    "# Seed everything\n",
    "random.seed(1234)\n",
    "np.random.seed(1234)\n",
    "torch.manual_seed(1234)\n",
    "torch.cuda.manual_seed_all(1234)\n",
    "\n",
    "# Get dataset\n",
    "test_dataset=get_dataset('cmnist',\n",
    "        data_dir='DebiAN/data/',\n",
    "        dataset_split=\"test\",\n",
    "        transform_split=\"valid\",\n",
    "        percent='1pct')\n",
    "\n",
    "\n",
    "# load checkpoint\n",
    "\n",
    "\n",
    "state_dict = torch.load(model_path)\n",
    "model.load_state_dict(state_dict['model'])\n",
    "model.cuda()\n",
    "model = model.eval()\n"
   ]
  },
  {
   "cell_type": "code",
   "execution_count": 72,
   "id": "30948187",
   "metadata": {},
   "outputs": [],
   "source": [
    "fontsize = 32\n",
    "viz = True\n",
    "i=0\n",
    "idx_img=0\n",
    "image,label,idx = test_dataset[0]"
   ]
  },
  {
   "cell_type": "code",
   "execution_count": 77,
   "id": "bd8c83a5",
   "metadata": {},
   "outputs": [],
   "source": [
    "l1,l2=label"
   ]
  },
  {
   "cell_type": "code",
   "execution_count": 80,
   "id": "d8a80828",
   "metadata": {},
   "outputs": [
    {
     "data": {
      "text/plain": [
       "7"
      ]
     },
     "execution_count": 80,
     "metadata": {},
     "output_type": "execute_result"
    }
   ],
   "source": [
    "l1.item()"
   ]
  },
  {
   "cell_type": "code",
   "execution_count": 81,
   "id": "35331aa5",
   "metadata": {},
   "outputs": [
    {
     "data": {
      "text/plain": [
       "9"
      ]
     },
     "execution_count": 81,
     "metadata": {},
     "output_type": "execute_result"
    }
   ],
   "source": [
    "l2.item()"
   ]
  },
  {
   "cell_type": "code",
   "execution_count": 74,
   "id": "b9cc7cc9",
   "metadata": {},
   "outputs": [
    {
     "data": {
      "text/plain": [
       "Text(0.5, 1.0, 'Original image')"
      ]
     },
     "execution_count": 74,
     "metadata": {},
     "output_type": "execute_result"
    },
    {
     "data": {
      "image/png": "[encoded data removed]",
      "text/plain": [
       "<Figure size 432x288 with 1 Axes>"
      ]
     },
     "metadata": {
      "needs_background": "light"
     },
     "output_type": "display_data"
    }
   ],
   "source": [
    "fig, ax = plt.subplots()\n",
    "ax.imshow(overlay(image, torch.ones(1,28,28), alpha=1.0))\n",
    "#ax[idx_img][0].axis('off')\n",
    "ax.set(yticklabels=[])\n",
    "ax.set(xticklabels=[])\n",
    "ax.set_title(\"Original image\", fontsize=fontsize)\n"
   ]
  },
  {
   "cell_type": "code",
   "execution_count": null,
   "id": "dc25083d",
   "metadata": {},
   "outputs": [],
   "source": []
  },
  {
   "cell_type": "code",
   "execution_count": null,
   "id": "6d5f9f60",
   "metadata": {},
   "outputs": [],
   "source": [
    "viz=True\n",
    "plt.tight_layout()\n",
    "if viz:\n",
    "    #print(name, int(dataset[i][1]), imagenet_labels[int(dataset[i][1])])\n",
    "    plt.show()\n",
    "else:\n",
    "    fig.savefig(\"comparison/\"+model_type + \"/\" + name)\n",
    "    fig.clear(True)"
   ]
  }
 ],
 "metadata": {
  "kernelspec": {
   "display_name": "Python 3 (ipykernel)",
   "language": "python",
   "name": "python3"
  },
  "language_info": {
   "codemirror_mode": {
    "name": "ipython",
    "version": 3
   },
   "file_extension": ".py",
   "mimetype": "text/x-python",
   "name": "python",
   "nbconvert_exporter": "python",
   "pygments_lexer": "ipython3",
   "version": "3.8.12"
  }
 },
 "nbformat": 4,
 "nbformat_minor": 5
}
